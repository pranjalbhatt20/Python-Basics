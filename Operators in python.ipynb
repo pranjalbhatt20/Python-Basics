{
 "cells": [
  {
   "cell_type": "markdown",
   "id": "9bd2f445",
   "metadata": {},
   "source": [
    "# Arithmetic Operators\n",
    "- Addition + (var1 + var2)\n",
    "- Subtraction - (var1 - var2)\n",
    "- Multiplication * (var1 - var2)\n",
    "- Division / (var1 / var2)\n",
    "- Modulus % (var1 % var 2)\n",
    "- Exponentiation ** (var1**var2)\n",
    "- Floor division // (var1//var2)"
   ]
  },
  {
   "cell_type": "markdown",
   "id": "5c25e705",
   "metadata": {},
   "source": [
    "- Modulus operator - Reminder of the division \n",
    "- Floor division - Division of first variable with second variable"
   ]
  },
  {
   "cell_type": "code",
   "execution_count": 1,
   "id": "407deac6",
   "metadata": {},
   "outputs": [
    {
     "data": {
      "text/plain": [
       "3"
      ]
     },
     "execution_count": 1,
     "metadata": {},
     "output_type": "execute_result"
    }
   ],
   "source": [
    "var1 = 7\n",
    "var2 = 4\n",
    "print(var1%var2) # Reminder "
   ]
  },
  {
   "cell_type": "code",
   "execution_count": 3,
   "id": "bcb3a5b3",
   "metadata": {},
   "outputs": [
    {
     "name": "stdout",
     "output_type": "stream",
     "text": [
      "1\n"
     ]
    }
   ],
   "source": [
    "var1 = 7\n",
    "var2 = 4\n",
    "print(var1//var2) # Quotient "
   ]
  },
  {
   "cell_type": "markdown",
   "id": "0a6a3e7d",
   "metadata": {},
   "source": [
    "# Assignment Operators"
   ]
  },
  {
   "cell_type": "markdown",
   "id": "bed91da6",
   "metadata": {},
   "source": [
    "- =     x = 5      x = 5\n",
    "- +=  example  x += 3     x = x + 3\n",
    "- -=  example  x -= 3     x = x - 3\n",
    "- *=  example  x *= 3     x = x * 3\n",
    "- /=  example  x /= 3     x = x / 3\n",
    "- %=  example  x %= 3     x = x % 3\n",
    "- //= example  x //= 3    x = x // 3\n",
    "- **= example x **= 3    x = x ** 3"
   ]
  },
  {
   "cell_type": "code",
   "execution_count": null,
   "id": "d0781ba2",
   "metadata": {},
   "outputs": [],
   "source": [
    "pd.DataFrame({'Operator'})"
   ]
  }
 ],
 "metadata": {
  "kernelspec": {
   "display_name": "Python 3",
   "language": "python",
   "name": "python3"
  },
  "language_info": {
   "codemirror_mode": {
    "name": "ipython",
    "version": 3
   },
   "file_extension": ".py",
   "mimetype": "text/x-python",
   "name": "python",
   "nbconvert_exporter": "python",
   "pygments_lexer": "ipython3",
   "version": "3.8.8"
  }
 },
 "nbformat": 4,
 "nbformat_minor": 5
}
