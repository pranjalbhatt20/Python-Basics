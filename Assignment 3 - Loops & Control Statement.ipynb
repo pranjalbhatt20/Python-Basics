{
 "cells": [
  {
   "cell_type": "markdown",
   "id": "7c7ca260",
   "metadata": {},
   "source": [
    "<p>Q1 Loop through all the keys of a dict but print values for each of these keys</p>\n",
    "<p>Q2 Create a dict with integer key and values , using this dict craete a second dictonary with same keys but the values should be squared</p>\n",
    "<p>Q3 Write a programme to print all primes number in a list</p>\n",
    "<p>Q4 Write a programme to find all consonents in a sentence</p>\n",
    "<p>Q5 Write a programme to biggest number in a list of integers</p>\n",
    "<p>Q6 Identify first even number in each of the sublist ,Hint- use nested for loop </p>\n",
    "<p>[[1,4,5,7,8],[3,5,6,7],[10,1,2,3]]</p>\n",
    "<p>Q7 Using continue statement print all the odd number of a list</p>"
   ]
  },
  {
   "cell_type": "code",
   "execution_count": null,
   "id": "3a844c3b",
   "metadata": {},
   "outputs": [],
   "source": []
  }
 ],
 "metadata": {
  "kernelspec": {
   "display_name": "Python 3 (ipykernel)",
   "language": "python",
   "name": "python3"
  },
  "language_info": {
   "codemirror_mode": {
    "name": "ipython",
    "version": 3
   },
   "file_extension": ".py",
   "mimetype": "text/x-python",
   "name": "python",
   "nbconvert_exporter": "python",
   "pygments_lexer": "ipython3",
   "version": "3.9.17"
  }
 },
 "nbformat": 4,
 "nbformat_minor": 5
}
