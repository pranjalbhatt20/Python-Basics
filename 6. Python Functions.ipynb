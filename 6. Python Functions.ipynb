{
 "cells": [
  {
   "cell_type": "code",
   "execution_count": 1,
   "id": "ec8d14ee",
   "metadata": {},
   "outputs": [
    {
     "name": "stdout",
     "output_type": "stream",
     "text": [
      "Hello from a function\n"
     ]
    }
   ],
   "source": [
    "# Defining a function  \n",
    "def my_function():\n",
    "    print(\"Hello from a function\")\n",
    "# Calling a function \n",
    "my_function()"
   ]
  },
  {
   "cell_type": "code",
   "execution_count": 2,
   "id": "4c7f812f",
   "metadata": {},
   "outputs": [
    {
     "name": "stdout",
     "output_type": "stream",
     "text": [
      "hello\n"
     ]
    }
   ],
   "source": [
    "# adding argument \n",
    "def my_func(a):\n",
    "    print(a)\n",
    "my_func('hello')"
   ]
  },
  {
   "cell_type": "code",
   "execution_count": 4,
   "id": "feb887d9",
   "metadata": {},
   "outputs": [
    {
     "name": "stdout",
     "output_type": "stream",
     "text": [
      "3\n"
     ]
    }
   ],
   "source": [
    "# multiple arguments  \n",
    "def my_func(a,b):\n",
    "    print(a+b)\n",
    "my_func(1,2)"
   ]
  },
  {
   "cell_type": "code",
   "execution_count": 5,
   "id": "4e76da2b",
   "metadata": {},
   "outputs": [
    {
     "name": "stdout",
     "output_type": "stream",
     "text": [
      "3\n"
     ]
    }
   ],
   "source": [
    "# return statement in a function \n",
    "def my_func(a,b):\n",
    "    return a+b\n",
    "var1=1\n",
    "var2=2\n",
    "total=my_func(var1,var2)\n",
    "print(total)"
   ]
  },
  {
   "cell_type": "code",
   "execution_count": 8,
   "id": "6688f94c",
   "metadata": {},
   "outputs": [
    {
     "data": {
      "text/plain": [
       "tuple"
      ]
     },
     "execution_count": 8,
     "metadata": {},
     "output_type": "execute_result"
    }
   ],
   "source": [
    "# what if the number of arguemts are not fixed\n",
    "def my_func(*args):\n",
    "    return sum(args)\n",
    "print(my_func(1,2,3))\n",
    "print(my_func(1,2,3,4))\n",
    "print(my_func(1,2,3,5,6))\n",
    "\n"
   ]
  },
  {
   "cell_type": "code",
   "execution_count": 10,
   "id": "81df9119",
   "metadata": {},
   "outputs": [
    {
     "name": "stdout",
     "output_type": "stream",
     "text": [
      "val1 is 1\n",
      "val2 is 2\n",
      "val3 is 3\n"
     ]
    }
   ],
   "source": [
    "# keyword argument - you can also send named arguments to the function\n",
    "def my_func(val1,val2,val3):\n",
    "    print(f\"val1 is {val1}\")\n",
    "    print(f\"val2 is {val2}\")\n",
    "    print(f\"val3 is {val3}\")\n",
    "my_func(val1=1,val3=3,val2=2) # notice that i am passing val3 first and val2 at the last because this is a keyword argument\n"
   ]
  },
  {
   "cell_type": "code",
   "execution_count": 11,
   "id": "bc1cf414",
   "metadata": {},
   "outputs": [
    {
     "name": "stdout",
     "output_type": "stream",
     "text": [
      "my name is  pranjal\n",
      "my occupation is  DS\n"
     ]
    }
   ],
   "source": [
    "# Artibitary keyword argument\n",
    "def myfunc(**keyword):\n",
    "    print(\"my name is \",keyword['name'])\n",
    "    print(\"my occupation is \",keyword['occ'])\n",
    "myfunc(name='pranjal',occ='DS')"
   ]
  },
  {
   "cell_type": "code",
   "execution_count": 13,
   "id": "e4859430",
   "metadata": {},
   "outputs": [
    {
     "data": {
      "text/plain": [
       "2.0"
      ]
     },
     "execution_count": 13,
     "metadata": {},
     "output_type": "execute_result"
    }
   ],
   "source": [
    "# Default value of a parameter\n",
    "def myfunc(a,b=2):\n",
    "    return a/b\n",
    "myfunc(2,1)"
   ]
  },
  {
   "cell_type": "code",
   "execution_count": 14,
   "id": "f2125132",
   "metadata": {},
   "outputs": [
    {
     "name": "stdout",
     "output_type": "stream",
     "text": [
      "1\n",
      "2\n",
      "3\n",
      "2\n",
      "1\n"
     ]
    }
   ],
   "source": [
    "# Passing sequence data types in function \n",
    "def myfunc(l):\n",
    "    for i in l:\n",
    "        print(i)\n",
    "lst=[1,2,3,2,1]\n",
    "myfunc(lst)    "
   ]
  },
  {
   "cell_type": "code",
   "execution_count": 15,
   "id": "86782fba",
   "metadata": {},
   "outputs": [
    {
     "data": {
      "text/plain": [
       "120"
      ]
     },
     "execution_count": 15,
     "metadata": {},
     "output_type": "execute_result"
    }
   ],
   "source": [
    "# recursive functions - finding factoricla\n",
    "def factorical(n):\n",
    "    if n==0:\n",
    "        return 1\n",
    "    else:\n",
    "        return n*factorical(n-1)\n",
    "factorical(5)"
   ]
  },
  {
   "cell_type": "markdown",
   "id": "c6a43f66",
   "metadata": {},
   "source": [
    "# Lambda functions\n",
    "- it is anonymous function in python because it has no name\n",
    "- can take any number of arguments"
   ]
  },
  {
   "cell_type": "code",
   "execution_count": 16,
   "id": "89a6eab1",
   "metadata": {},
   "outputs": [
    {
     "data": {
      "text/plain": [
       "7"
      ]
     },
     "execution_count": 16,
     "metadata": {},
     "output_type": "execute_result"
    }
   ],
   "source": [
    "add = lambda x,y:x+y\n",
    "add(3,4)"
   ]
  },
  {
   "cell_type": "code",
   "execution_count": 17,
   "id": "4c601524",
   "metadata": {},
   "outputs": [
    {
     "name": "stdout",
     "output_type": "stream",
     "text": [
      "10\n",
      "15\n"
     ]
    }
   ],
   "source": [
    "# It is used to create another function\n",
    "def myfunc(n):\n",
    "    return lambda x:x*n\n",
    "doubler=myfunc(2)\n",
    "tripler=myfunc(3)\n",
    "print(doubler(5))\n",
    "print(tripler(5))"
   ]
  },
  {
   "cell_type": "code",
   "execution_count": 18,
   "id": "9cb0f081",
   "metadata": {},
   "outputs": [],
   "source": [
    "# write a function to check if a number is a prime number or not"
   ]
  },
  {
   "cell_type": "code",
   "execution_count": 19,
   "id": "0f93dd0b",
   "metadata": {},
   "outputs": [],
   "source": [
    "# write a function to count the number of vowels in a sentence "
   ]
  },
  {
   "cell_type": "code",
   "execution_count": null,
   "id": "19af1633",
   "metadata": {},
   "outputs": [],
   "source": [
    "# write a function that returns the sum of a list"
   ]
  },
  {
   "cell_type": "markdown",
   "id": "9f223ce2",
   "metadata": {},
   "source": [
    "# Some important modules (random,os,datetime)\n",
    "## OS \n",
    "- provides function to interact with operative system"
   ]
  },
  {
   "cell_type": "code",
   "execution_count": 20,
   "id": "0427ff99",
   "metadata": {},
   "outputs": [],
   "source": [
    "import os "
   ]
  },
  {
   "cell_type": "code",
   "execution_count": 21,
   "id": "73106acd",
   "metadata": {},
   "outputs": [
    {
     "data": {
      "text/plain": [
       "'C:\\\\Users\\\\pranjal.p.bhatt.INTKYV\\\\Documents\\\\python projects\\\\Training'"
      ]
     },
     "execution_count": 21,
     "metadata": {},
     "output_type": "execute_result"
    }
   ],
   "source": [
    "# get current working directory \n",
    "os.getcwd()"
   ]
  },
  {
   "cell_type": "code",
   "execution_count": null,
   "id": "8a571249",
   "metadata": {},
   "outputs": [],
   "source": [
    "# make a directory\n",
    "os.mkdir(\"directory_path\")"
   ]
  },
  {
   "cell_type": "code",
   "execution_count": 24,
   "id": "e6f14f6d",
   "metadata": {},
   "outputs": [
    {
     "data": {
      "text/plain": [
       "'C:\\\\Users\\\\pranjal.p.bhatt.INTKYV\\\\Documents\\\\python projects\\\\Training\\\\Test Data.csv'"
      ]
     },
     "execution_count": 24,
     "metadata": {},
     "output_type": "execute_result"
    }
   ],
   "source": [
    "# join file and folder names \n",
    "folder_path=r\"C:\\Users\\pranjal.p.bhatt.INTKYV\\Documents\\python projects\\Training\"\n",
    "file_name=\"Test Data.csv\"\n",
    "os.path.join(folder_path,file_name)"
   ]
  },
  {
   "cell_type": "code",
   "execution_count": 25,
   "id": "8221c80b",
   "metadata": {},
   "outputs": [
    {
     "data": {
      "text/plain": [
       "['.ipynb_checkpoints',\n",
       " '2. Operators in python.ipynb',\n",
       " '3. Loops & Control Statement in python.ipynb',\n",
       " '4. String Operations.ipynb',\n",
       " '5. list, sets, tuple & dictionary operations.ipynb',\n",
       " '6. Python Functions.ipynb',\n",
       " '6.Assignement - functions.ipynb',\n",
       " 'Assignment 2 - Operators.ipynb',\n",
       " 'Assignment 3 - Loops & Control Statement.ipynb',\n",
       " 'Assignment 4 - list ,tuple,sets & dict operations.ipynb',\n",
       " 'imputer_mean_02.pkl',\n",
       " 'imputer_mean_910.pkl',\n",
       " 'imputer_most_frequent_38.pkl',\n",
       " 'labelEncoder_3.pkl',\n",
       " 'labelEncoder_4.pkl',\n",
       " 'labelEncoder_5.pkl',\n",
       " 'labelEncoder_6.pkl',\n",
       " 'labelEncoder_7.pkl',\n",
       " 'labelEncoder_8.pkl',\n",
       " 'myModel.pkl',\n",
       " 'onehotencoder.pkl',\n",
       " 'scaler.pkl',\n",
       " 'Statistics',\n",
       " 'Test Data.csv',\n",
       " 'Training Data.csv',\n",
       " 'Use Case.ipynb']"
      ]
     },
     "execution_count": 25,
     "metadata": {},
     "output_type": "execute_result"
    }
   ],
   "source": [
    "# list of all files in a folder\n",
    "os.listdir(folder_path)"
   ]
  },
  {
   "cell_type": "code",
   "execution_count": 26,
   "id": "2779c9a1",
   "metadata": {},
   "outputs": [],
   "source": [
    "# remove file or directory \n",
    "# os.remove(file_full_path)\n",
    "# os.rmdir(folder_path)"
   ]
  },
  {
   "cell_type": "code",
   "execution_count": 28,
   "id": "ce572f23",
   "metadata": {},
   "outputs": [
    {
     "data": {
      "text/plain": [
       "False"
      ]
     },
     "execution_count": 28,
     "metadata": {},
     "output_type": "execute_result"
    }
   ],
   "source": [
    "# check if a path exist or not\n",
    "os.path.exists(\"file_path\")"
   ]
  },
  {
   "cell_type": "markdown",
   "id": "1ef13444",
   "metadata": {},
   "source": [
    "## Datetime module"
   ]
  },
  {
   "cell_type": "code",
   "execution_count": 29,
   "id": "978e777d",
   "metadata": {},
   "outputs": [],
   "source": [
    "import datetime as dt"
   ]
  },
  {
   "cell_type": "code",
   "execution_count": 31,
   "id": "4652f01e",
   "metadata": {},
   "outputs": [
    {
     "name": "stdout",
     "output_type": "stream",
     "text": [
      "2024-05-31 16:19:55.803702\n",
      "<class 'datetime.datetime'>\n"
     ]
    }
   ],
   "source": [
    "# get current time \n",
    "print(dt.datetime.now())\n",
    "print(type(dt.datetime.now()))"
   ]
  },
  {
   "cell_type": "code",
   "execution_count": 35,
   "id": "e5cb84b1",
   "metadata": {},
   "outputs": [
    {
     "name": "stdout",
     "output_type": "stream",
     "text": [
      "2024-05-31 16:20:56.426767\n"
     ]
    }
   ],
   "source": [
    "# converting current time to string \n",
    "print(str(dt.datetime.now()))\n"
   ]
  },
  {
   "cell_type": "code",
   "execution_count": 38,
   "id": "ff7b58b5",
   "metadata": {},
   "outputs": [
    {
     "name": "stdout",
     "output_type": "stream",
     "text": [
      "2024-05-31\n"
     ]
    }
   ],
   "source": [
    "# extract only current date \n",
    "print(dt.datetime.now().date())\n"
   ]
  },
  {
   "cell_type": "code",
   "execution_count": 42,
   "id": "58e89436",
   "metadata": {},
   "outputs": [
    {
     "data": {
      "text/plain": [
       "datetime.datetime(2020, 1, 31, 0, 21, 30)"
      ]
     },
     "execution_count": 42,
     "metadata": {},
     "output_type": "execute_result"
    }
   ],
   "source": [
    "# convert string to datetime type object \n",
    "time_str='2020-01-31 00:21:30'\n",
    "datetime_object=dt.datetime.strptime(time_str,'%Y-%m-%d %H:%M:%S')\n",
    "datetime_object"
   ]
  },
  {
   "cell_type": "code",
   "execution_count": 44,
   "id": "7f7eb9c5",
   "metadata": {},
   "outputs": [
    {
     "name": "stdout",
     "output_type": "stream",
     "text": [
      "2020\n",
      "1\n",
      "31\n",
      "0\n"
     ]
    }
   ],
   "source": [
    "# extracting year ,month etc from datetime types object \n",
    "print(datetime_object.year)\n",
    "print(datetime_object.month)\n",
    "print(datetime_object.day)\n",
    "print(datetime_object.hour)\n"
   ]
  },
  {
   "cell_type": "code",
   "execution_count": 47,
   "id": "17d9afea",
   "metadata": {},
   "outputs": [
    {
     "data": {
      "text/plain": [
       "'01-31-2020 00:21:30'"
      ]
     },
     "execution_count": 47,
     "metadata": {},
     "output_type": "execute_result"
    }
   ],
   "source": [
    "# convert datetime to string format \n",
    "time_str='2020-01-31 00:21:30'\n",
    "datetime_object=dt.datetime.strptime(time_str,'%Y-%m-%d %H:%M:%S')\n",
    "str_object=dt.datetime.strftime(datetime_object,'%m-%d-%Y %H:%M:%S')\n",
    "\n",
    "str_object"
   ]
  },
  {
   "cell_type": "code",
   "execution_count": 52,
   "id": "6f8af3c1",
   "metadata": {},
   "outputs": [
    {
     "data": {
      "text/plain": [
       "2.975802"
      ]
     },
     "execution_count": 52,
     "metadata": {},
     "output_type": "execute_result"
    }
   ],
   "source": [
    "# difference between 2 date object \n",
    "start=dt.datetime.now()\n",
    "[x**2 for x in range(10000000)]\n",
    "delta=dt.datetime.now()-start\n",
    "delta.total_seconds()"
   ]
  },
  {
   "cell_type": "markdown",
   "id": "4210b97e",
   "metadata": {},
   "source": [
    "# Random module\n",
    "- used to generate random data "
   ]
  },
  {
   "cell_type": "code",
   "execution_count": 53,
   "id": "20ccd974",
   "metadata": {},
   "outputs": [],
   "source": [
    "import random"
   ]
  },
  {
   "cell_type": "code",
   "execution_count": 54,
   "id": "7bf04cc4",
   "metadata": {},
   "outputs": [
    {
     "data": {
      "text/plain": [
       "34"
      ]
     },
     "execution_count": 54,
     "metadata": {},
     "output_type": "execute_result"
    }
   ],
   "source": [
    "# generate random number between a range \n",
    "random.randint(1,100)"
   ]
  },
  {
   "cell_type": "code",
   "execution_count": 58,
   "id": "546c10da",
   "metadata": {},
   "outputs": [
    {
     "data": {
      "text/plain": [
       "247.97584647445072"
      ]
     },
     "execution_count": 58,
     "metadata": {},
     "output_type": "execute_result"
    }
   ],
   "source": [
    "# generate random decimal number \n",
    "random.uniform(a=100,b=1000) # random decimal number between 100 and 1000"
   ]
  },
  {
   "cell_type": "code",
   "execution_count": 62,
   "id": "8c6fe2e5",
   "metadata": {},
   "outputs": [
    {
     "name": "stdout",
     "output_type": "stream",
     "text": [
      "7\n"
     ]
    }
   ],
   "source": [
    "# get random value from a list \n",
    "sample_list=[1,2,3,4,5,6,6,7,8]\n",
    "print(random.choice(sample_list))"
   ]
  },
  {
   "cell_type": "markdown",
   "id": "4f410aac",
   "metadata": {},
   "source": [
    "Q1. Write a function format_greeting(name, age) that takes a person's name and age and returns a formatted string: \"Hello, my name is {name} and I am {age} years old.\"\n",
    "Q2. Write a function safe_divide(a, b) that takes two numbers and returns their division. If the divisor is zero, return \"Division by zero is not allowed.\"\n",
    "Q3. Print characters from a string that are present at an even index number\n",
    "Q4. write a function to Remove first n characters from a string\n",
    "Q5. Print the following pattern\n",
    "1\n",
    "2 2\n",
    "3 3 3\n",
    "4 4 4 4 4\n",
    "5 5 5 5 5 5"
   ]
  }
 ],
 "metadata": {
  "kernelspec": {
   "display_name": "Python 3",
   "language": "python",
   "name": "python3"
  },
  "language_info": {
   "codemirror_mode": {
    "name": "ipython",
    "version": 3
   },
   "file_extension": ".py",
   "mimetype": "text/x-python",
   "name": "python",
   "nbconvert_exporter": "python",
   "pygments_lexer": "ipython3",
   "version": "3.8.8"
  }
 },
 "nbformat": 4,
 "nbformat_minor": 5
}
