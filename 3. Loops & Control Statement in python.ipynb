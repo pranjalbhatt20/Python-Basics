{
 "cells": [
  {
   "cell_type": "markdown",
   "id": "818edede",
   "metadata": {},
   "source": [
    "# For Loop\n",
    "for value in sequence:  \n",
    "    { code block }\n",
    "<p>Sequence could be of any type like list ,tuple etc.\n",
    "It could also be a range function or a string\n",
    "</p>\n",
    "<p>if for loop is used with dict by default it will loop through keys\n",
    "</p>\n"
   ]
  },
  {
   "cell_type": "markdown",
   "id": "3ca4ee06",
   "metadata": {},
   "source": [
    "## For loop with list and tuples\n"
   ]
  },
  {
   "cell_type": "code",
   "execution_count": 6,
   "id": "33aaac21",
   "metadata": {
    "scrolled": true
   },
   "outputs": [
    {
     "name": "stdout",
     "output_type": "stream",
     "text": [
      "For loop in list\n",
      "2\n",
      "4\n",
      "6\n",
      "8\n",
      "20\n",
      "196\n",
      "For loop with tuples\n",
      "2\n",
      "4\n",
      "6\n",
      "8\n",
      "20\n",
      "196\n"
     ]
    }
   ],
   "source": [
    "var_list = [1,2,3,4,10,98] # list\n",
    "print(\"For loop in list\")\n",
    "for i in var_list:\n",
    "    print(i*2)\n",
    "    \n",
    "var_list = tuple([1,2,3,4,10,98] )# list\n",
    "print(\"For loop with tuples\")\n",
    "for i in var_list:\n",
    "    print(i*2)"
   ]
  },
  {
   "cell_type": "code",
   "execution_count": 26,
   "id": "bd1000bf",
   "metadata": {},
   "outputs": [
    {
     "name": "stdout",
     "output_type": "stream",
     "text": [
      "2\n",
      "b\n",
      "[1, 2, 3]\n"
     ]
    }
   ],
   "source": [
    "dict1={1:2,'a':'b',1.1:[1,2,3]}\n",
    "\n",
    "for i in dict1.values():\n",
    "    print(i)"
   ]
  },
  {
   "cell_type": "code",
   "execution_count": 28,
   "id": "39db071f",
   "metadata": {},
   "outputs": [
    {
     "name": "stdout",
     "output_type": "stream",
     "text": [
      "keys -->1\n",
      "values -->2\n",
      "keys -->a\n",
      "values -->b\n",
      "keys -->1.1\n",
      "values -->[1, 2, 3]\n"
     ]
    }
   ],
   "source": [
    "for k,v in zip(dict1.keys(),dict1.values()):\n",
    "    print(f\"keys -->{k}\")\n",
    "    print(f\"values -->{v}\")"
   ]
  },
  {
   "cell_type": "code",
   "execution_count": 18,
   "id": "c3046341",
   "metadata": {},
   "outputs": [
    {
     "name": "stdout",
     "output_type": "stream",
     "text": [
      "P hi\n",
      "y hi\n",
      "t hi\n",
      "h hi\n",
      "o hello\n",
      "n hi\n",
      "  hi\n",
      "i hi\n",
      "s hi\n",
      "  hi\n",
      "b hi\n",
      "e hi\n",
      "s hi\n",
      "t hi\n"
     ]
    }
   ],
   "source": [
    "# l1=[1,2,3,4]\n",
    "# for i in l1:\n",
    "#     if i%2==0:\n",
    "#         print(i**2)\n",
    "#     else:\n",
    "#         print(i**3)\n",
    "# set1 = {1,2,3,4,10,1}\n",
    "# for i in set1:\n",
    "#     if i==1:\n",
    "#         print(\"hi\")\n",
    "#     else:\n",
    "#         print(\"hello\")\n",
    "# list, sets ,dict \n",
    "sample_str=\"Python is best\"\n",
    "for s in sample_str:\n",
    "    if s=='o':\n",
    "        print(s,\"hello\")\n",
    "    else:\n",
    "        print(s,\"hi\")"
   ]
  },
  {
   "cell_type": "markdown",
   "id": "587f0fec",
   "metadata": {},
   "source": [
    "## For loop with sets and dictonaries\n"
   ]
  },
  {
   "cell_type": "code",
   "execution_count": 10,
   "id": "65867c8e",
   "metadata": {},
   "outputs": [
    {
     "name": "stdout",
     "output_type": "stream",
     "text": [
      "Form loop on Sets\n",
      "1\n",
      "43\n",
      "21\n",
      "23\n",
      "Form loop on dict\n",
      "1\n",
      "23\n"
     ]
    }
   ],
   "source": [
    "print(\"Form loop on Sets\")\n",
    "for i in {1,21,23,43,23}:  # notice that 23 is repeated here and how it is shown in the output\n",
    "    print(i)\n",
    "print(\"Form loop on dict\")\n",
    "var_dict={1:21,23:43,23:'abc'}\n",
    "for i in var_dict:  # if looped through a dict it is going to consider only keys\n",
    "    print(i)"
   ]
  },
  {
   "cell_type": "markdown",
   "id": "ef721bc9",
   "metadata": {},
   "source": [
    "## For loop with strings\n",
    "- It will iterate through all the char in a string"
   ]
  },
  {
   "cell_type": "code",
   "execution_count": 11,
   "id": "37f234ac",
   "metadata": {},
   "outputs": [
    {
     "name": "stdout",
     "output_type": "stream",
     "text": [
      "P\n",
      "y\n",
      "t\n",
      "h\n",
      "o\n",
      "n\n",
      " \n",
      "i\n",
      "s\n",
      " \n",
      "t\n",
      "h\n",
      "e\n",
      " \n",
      "b\n",
      "e\n",
      "s\n",
      "t\n",
      " \n",
      "p\n",
      "r\n",
      "o\n",
      "g\n",
      "r\n",
      "a\n",
      "m\n",
      "m\n",
      "i\n",
      "n\n",
      "g\n",
      " \n",
      "l\n",
      "a\n",
      "n\n",
      "g\n",
      "u\n",
      "a\n",
      "g\n",
      "e\n"
     ]
    }
   ],
   "source": [
    "sample_str = \"Python is the best programming language\"\n",
    "for i in sample_str:\n",
    "    print(i)"
   ]
  },
  {
   "cell_type": "markdown",
   "id": "04a96e74",
   "metadata": {},
   "source": [
    "## For loop with range function\n",
    "- range function returns the range between start value and end value"
   ]
  },
  {
   "cell_type": "code",
   "execution_count": 13,
   "id": "d6ba43ce",
   "metadata": {},
   "outputs": [
    {
     "name": "stdout",
     "output_type": "stream",
     "text": [
      "2\n",
      "3\n",
      "4\n",
      "5\n",
      "6\n",
      "7\n",
      "8\n",
      "9\n"
     ]
    }
   ],
   "source": [
    "for i in range(2,10): # notice that it will start from 2 but end in 10-1 = 9\n",
    "    print(i)"
   ]
  },
  {
   "cell_type": "markdown",
   "id": "76bd2bcd",
   "metadata": {},
   "source": [
    "## Nested for loop"
   ]
  },
  {
   "cell_type": "code",
   "execution_count": 15,
   "id": "79bb18ac",
   "metadata": {},
   "outputs": [
    {
     "name": "stdout",
     "output_type": "stream",
     "text": [
      "Python\n",
      "P\n",
      "y\n",
      "t\n",
      "h\n",
      "o\n",
      "n\n",
      "Hello\n",
      "H\n",
      "e\n",
      "l\n",
      "l\n",
      "o\n",
      "World\n",
      "W\n",
      "o\n",
      "r\n",
      "l\n",
      "d\n"
     ]
    }
   ],
   "source": [
    "sample_list=[\"Python\",\"Hello\",\"World\"]\n",
    "for i in sample_list:\n",
    "    print(i)\n",
    "    for j in i:\n",
    "        print(j)"
   ]
  },
  {
   "cell_type": "markdown",
   "id": "3f1e9059",
   "metadata": {},
   "source": [
    "## For Loop with else\n",
    "Only if the execution is complete does the else statement comes into play. It won't be executed if we exit the loop or if an error is thrown."
   ]
  },
  {
   "cell_type": "code",
   "execution_count": 18,
   "id": "85828757",
   "metadata": {},
   "outputs": [
    {
     "name": "stdout",
     "output_type": "stream",
     "text": [
      "1\n",
      "2\n",
      "3\n",
      "Execution done\n",
      "1\n"
     ]
    }
   ],
   "source": [
    "for i in range(1,4):\n",
    "    print(i)\n",
    "else:\n",
    "    print(\"Execution done\")\n",
    "# in below code else will not be executed\n",
    "for i in range(1,4):\n",
    "    print(i)\n",
    "    break\n",
    "else:\n",
    "    print(\"Execution done\")"
   ]
  },
  {
   "cell_type": "markdown",
   "id": "1c0ca189",
   "metadata": {},
   "source": [
    "# While Loop \n",
    "<p>\n",
    "while expression:</p>\n",
    "    code_block(s)"
   ]
  },
  {
   "cell_type": "code",
   "execution_count": 16,
   "id": "5654e1fd",
   "metadata": {},
   "outputs": [
    {
     "name": "stdout",
     "output_type": "stream",
     "text": [
      "Hello World\n",
      "Hello World\n",
      "Hello World\n",
      "Hello World\n",
      "Hello World\n"
     ]
    }
   ],
   "source": [
    "var = 0\n",
    "while var<5:\n",
    "    print(\"Hello World\")\n",
    "    var = var+1"
   ]
  },
  {
   "cell_type": "markdown",
   "id": "6801f684",
   "metadata": {},
   "source": [
    "## While loop with else\n",
    "Works similar to else statements in for loop"
   ]
  },
  {
   "cell_type": "code",
   "execution_count": 19,
   "id": "9d9efd97",
   "metadata": {},
   "outputs": [
    {
     "name": "stdout",
     "output_type": "stream",
     "text": [
      "Hello World\n",
      "Hello World\n",
      "Hello World\n",
      "Hello World\n",
      "Hello World\n",
      "Execution done\n",
      "Hello World\n"
     ]
    }
   ],
   "source": [
    "\n",
    "var = 0\n",
    "while var<5:\n",
    "    print(\"Hello World\")\n",
    "    var = var+1\n",
    "else:\n",
    "    print(\"Execution done\")\n",
    "\n",
    "var = 0\n",
    "while var<5:\n",
    "    print(\"Hello World\")\n",
    "    var = var+1\n",
    "    break\n",
    "else:\n",
    "    print(\"Execution done\")"
   ]
  },
  {
   "cell_type": "markdown",
   "id": "583bca6e",
   "metadata": {},
   "source": [
    "# Control Statements"
   ]
  },
  {
   "cell_type": "markdown",
   "id": "a87527d7",
   "metadata": {},
   "source": [
    "## if,else,elif statements"
   ]
  },
  {
   "cell_type": "code",
   "execution_count": 22,
   "id": "1f040369",
   "metadata": {},
   "outputs": [
    {
     "name": "stdout",
     "output_type": "stream",
     "text": [
      "Odd\n"
     ]
    }
   ],
   "source": [
    "# Simple programme to check for even or odd\n",
    "var = 5 \n",
    "if var % 2==0 :\n",
    "    print(\"Even\")\n",
    "else :\n",
    "    print(\"Odd\")"
   ]
  },
  {
   "cell_type": "markdown",
   "id": "07bcd978",
   "metadata": {},
   "source": [
    "if else inside for loop"
   ]
  },
  {
   "cell_type": "code",
   "execution_count": 24,
   "id": "e2a6861c",
   "metadata": {},
   "outputs": [
    {
     "name": "stdout",
     "output_type": "stream",
     "text": [
      "o\n",
      "i\n",
      "e\n",
      "e\n",
      "o\n",
      "a\n",
      "i\n",
      "a\n",
      "u\n",
      "a\n",
      "e\n"
     ]
    }
   ],
   "source": [
    "# Programme to find all vowels in a senetence\n",
    "sample_str = \"Python is the best programming language\"\n",
    "vowels_list=['a','e','i','o','u','A','E','I','O','U']\n",
    "for i in sample_str:\n",
    "    if i in vowels_list:\n",
    "        print(i)"
   ]
  },
  {
   "cell_type": "code",
   "execution_count": 25,
   "id": "70621918",
   "metadata": {},
   "outputs": [
    {
     "name": "stdout",
     "output_type": "stream",
     "text": [
      "Second is greater than first\n"
     ]
    }
   ],
   "source": [
    "# Programme to identify if a number is greater than, equals to or less than other number\n",
    "var1=1\n",
    "var2=2\n",
    "if var1==var2:\n",
    "    print(\"Both are equal\")\n",
    "elif var1>=var2:\n",
    "    print(\"First is greater than second\")\n",
    "else:\n",
    "    print(\"Second is greater than first\")"
   ]
  },
  {
   "cell_type": "markdown",
   "id": "5962fffd",
   "metadata": {},
   "source": [
    "## Break Statement \n",
    "<p> this is used to remove the control from the loop that contains break statement</p>\n",
    "<p> break statement will only take out control from the current loop and not from parent loop</p>"
   ]
  },
  {
   "cell_type": "code",
   "execution_count": 26,
   "id": "a016cbab",
   "metadata": {},
   "outputs": [
    {
     "name": "stdout",
     "output_type": "stream",
     "text": [
      "First even number is  6\n"
     ]
    }
   ],
   "source": [
    "# Identify the first even number in the list \n",
    "for i in [1,3,5,6,7,8]:\n",
    "    if i%2==0:\n",
    "        print(\"First even number is \",i)\n",
    "        break"
   ]
  },
  {
   "cell_type": "code",
   "execution_count": 28,
   "id": "de827ce3",
   "metadata": {},
   "outputs": [
    {
     "name": "stdout",
     "output_type": "stream",
     "text": [
      "Outer loop  1\n",
      "Inner loop 5\n",
      "Inner loop 6\n",
      "Inner loop 7\n",
      "Outer loop  2\n",
      "Inner loop 5\n",
      "Inner loop 6\n",
      "Inner loop 7\n",
      "Outer loop  3\n",
      "Inner loop 5\n",
      "Inner loop 6\n",
      "Inner loop 7\n",
      "Outer loop  4\n",
      "Inner loop 5\n",
      "Inner loop 6\n",
      "Inner loop 7\n"
     ]
    }
   ],
   "source": [
    "# Break statement in nested loops\n",
    "for i in range(1,5):\n",
    "    print(\"Outer loop \",i)\n",
    "    for j in range(5,10):\n",
    "        print(\"Inner loop\",j)\n",
    "        if j>=7:\n",
    "            break"
   ]
  },
  {
   "cell_type": "markdown",
   "id": "f72e57d4",
   "metadata": {},
   "source": [
    "## Continue statement\n",
    "When a Python interpreter sees a continue statement, it skips the present iteration's execution if the condition is satisfied."
   ]
  },
  {
   "cell_type": "code",
   "execution_count": 30,
   "id": "346cfb28",
   "metadata": {},
   "outputs": [
    {
     "name": "stdout",
     "output_type": "stream",
     "text": [
      "30\n"
     ]
    }
   ],
   "source": [
    "# add all the even number of a list using continue statement\n",
    "even_sum=0\n",
    "for i in [1,2,3,4,5,6,7,8,9,10]:\n",
    "    if i%2!=0:\n",
    "        continue\n",
    "    even_sum+=i\n",
    "print(even_sum)"
   ]
  },
  {
   "cell_type": "markdown",
   "id": "6dcc6060",
   "metadata": {},
   "source": [
    "## Pass Statement\n",
    "Generally used as a place holder if some logic has to be implemented at a later part of the project. it does not perform any actions."
   ]
  },
  {
   "cell_type": "code",
   "execution_count": 31,
   "id": "684de8b9",
   "metadata": {},
   "outputs": [
    {
     "name": "stdout",
     "output_type": "stream",
     "text": [
      "55\n"
     ]
    }
   ],
   "source": [
    "# add all the odd numbers of a list using pass statement\n",
    "even_sum=0\n",
    "for i in [1,2,3,4,5,6,7,8,9,10]:\n",
    "    if i%2!=0:\n",
    "        pass # this will be implemented later\n",
    "    even_sum+=i\n",
    "print(even_sum)"
   ]
  },
  {
   "cell_type": "code",
   "execution_count": null,
   "id": "7365e82d",
   "metadata": {},
   "outputs": [],
   "source": []
  }
 ],
 "metadata": {
  "kernelspec": {
   "display_name": "Python 3",
   "language": "python",
   "name": "python3"
  },
  "language_info": {
   "codemirror_mode": {
    "name": "ipython",
    "version": 3
   },
   "file_extension": ".py",
   "mimetype": "text/x-python",
   "name": "python",
   "nbconvert_exporter": "python",
   "pygments_lexer": "ipython3",
   "version": "3.8.8"
  }
 },
 "nbformat": 4,
 "nbformat_minor": 5
}
