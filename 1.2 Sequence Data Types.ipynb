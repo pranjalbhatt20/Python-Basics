{
 "cells": [
  {
   "cell_type": "markdown",
   "id": "48d679a2",
   "metadata": {},
   "source": [
    "# Sequence Data Types\n",
    "## List\n",
    "<p>Python list is a collection of objects enclosed by square braces [   ]</p>"
   ]
  },
  {
   "cell_type": "markdown",
   "id": "6c9ba5ef",
   "metadata": {},
   "source": [
    "### Declaration & Properties"
   ]
  },
  {
   "cell_type": "code",
   "execution_count": 1,
   "id": "a6f5ef17",
   "metadata": {},
   "outputs": [
    {
     "name": "stdout",
     "output_type": "stream",
     "text": [
      "<class 'list'>\n",
      "[1, 2]\n"
     ]
    }
   ],
   "source": [
    "var = [1,2]\n",
    "print(type(var))\n",
    "print(var)"
   ]
  },
  {
   "cell_type": "markdown",
   "id": "61ccda5d",
   "metadata": {},
   "source": [
    "<b>List are heterogeneous</b>\n",
    "- members of a list can be of different data types (can a another list or sets also)"
   ]
  },
  {
   "cell_type": "code",
   "execution_count": 4,
   "id": "32a5de4b",
   "metadata": {},
   "outputs": [
    {
     "name": "stdout",
     "output_type": "stream",
     "text": [
      "[1, 2, 'a', 1.2, ['a', 'b']]\n"
     ]
    }
   ],
   "source": [
    "var = [1,2,'a',1.2,['a','b']] # notice the last element is list type \n",
    "print(var)"
   ]
  },
  {
   "cell_type": "markdown",
   "id": "2433cf50",
   "metadata": {},
   "source": [
    "<b>Lists are ordered</b>\n",
    "- members of list can be accessed by index\n",
    "- index start from 0\n",
    "- index are enclosed in square braces [ ]"
   ]
  },
  {
   "cell_type": "code",
   "execution_count": 5,
   "id": "9e935f8f",
   "metadata": {},
   "outputs": [
    {
     "name": "stdout",
     "output_type": "stream",
     "text": [
      "First Index  1\n"
     ]
    }
   ],
   "source": [
    "var = [1,2,'a',1.2,['a','b']] \n",
    "print(\"First Index \",var[0]) # Accessing the first index of a list  "
   ]
  },
  {
   "cell_type": "markdown",
   "id": "7c0e6625",
   "metadata": {},
   "source": [
    "<b>Lists are mutable</b>\n",
    "- Individual elements of a list can be changed without declaring a new list\n",
    "- To Change an element of a list access the element by the index and assign the required value"
   ]
  },
  {
   "cell_type": "code",
   "execution_count": 6,
   "id": "6e44c367",
   "metadata": {},
   "outputs": [
    {
     "name": "stdout",
     "output_type": "stream",
     "text": [
      "Before Changing  [1, 2, 'a', 'b']\n",
      "After Changing [1, 2, 'hello', 'b']\n"
     ]
    }
   ],
   "source": [
    "var = [1,2,'a','b'] # we will replace 'a' with 'hello'\n",
    "print(\"Before Changing \",var)\n",
    "var[2] = 'hello'\n",
    "print(\"After Changing\",var)"
   ]
  },
  {
   "cell_type": "markdown",
   "id": "9ec6db26",
   "metadata": {},
   "source": [
    "## Tuples\n",
    "### Declaration and Properties\n",
    "<p>Python list is a collection of objects enclosed by braces (  )</p>"
   ]
  },
  {
   "cell_type": "code",
   "execution_count": 7,
   "id": "af286439",
   "metadata": {},
   "outputs": [
    {
     "name": "stdout",
     "output_type": "stream",
     "text": [
      "Type is  <class 'tuple'>\n",
      "(1, 2, 3)\n"
     ]
    }
   ],
   "source": [
    "var = (1,2,3)\n",
    "print(\"Type is \",type(var))\n",
    "print(var)"
   ]
  },
  {
   "cell_type": "markdown",
   "id": "918e5c0e",
   "metadata": {},
   "source": [
    "<b>Tuples are heterogeneous</b>\n",
    "- members of a tuple can be of different data types (can a another tuple or list also)"
   ]
  },
  {
   "cell_type": "code",
   "execution_count": 8,
   "id": "96c47e74",
   "metadata": {},
   "outputs": [
    {
     "name": "stdout",
     "output_type": "stream",
     "text": [
      "(1, 2, 'a', 1.2, ('a', 'b'))\n"
     ]
    }
   ],
   "source": [
    "var = (1,2,'a',1.2,('a','b')) # notice the last element is tuple type \n",
    "print(var)"
   ]
  },
  {
   "cell_type": "markdown",
   "id": "e728c6f9",
   "metadata": {},
   "source": [
    "<b>Tuples are ordered</b>\n",
    "- members of tuple can be accessed by index\n",
    "- index start from 0\n",
    "- index are enclosed in square braces [ ]"
   ]
  },
  {
   "cell_type": "code",
   "execution_count": 9,
   "id": "77cd6f3e",
   "metadata": {},
   "outputs": [
    {
     "name": "stdout",
     "output_type": "stream",
     "text": [
      "First Index  1\n"
     ]
    }
   ],
   "source": [
    "var = (1,2,'a',1.2,('a','b')) \n",
    "print(\"First Index \",var[0]) # Accessing the first index of a tuple  "
   ]
  },
  {
   "cell_type": "markdown",
   "id": "6df80a18",
   "metadata": {},
   "source": [
    "<b>Tuples are immutable</b>\n",
    "- Individual elements of a tuple cannot be changed without declaring a new tuple\n",
    "- To Change an element of a tuple declare a new tuple object"
   ]
  },
  {
   "cell_type": "code",
   "execution_count": 10,
   "id": "2df726a6",
   "metadata": {},
   "outputs": [
    {
     "ename": "TypeError",
     "evalue": "'tuple' object does not support item assignment",
     "output_type": "error",
     "traceback": [
      "\u001b[0;31m---------------------------------------------------------------------------\u001b[0m",
      "\u001b[0;31mTypeError\u001b[0m                                 Traceback (most recent call last)",
      "\u001b[0;32m<ipython-input-10-13e899f2c1fb>\u001b[0m in \u001b[0;36m<module>\u001b[0;34m\u001b[0m\n\u001b[1;32m      1\u001b[0m \u001b[0mvar\u001b[0m \u001b[0;34m=\u001b[0m \u001b[0;34m(\u001b[0m\u001b[0;36m1\u001b[0m\u001b[0;34m,\u001b[0m\u001b[0;36m2\u001b[0m\u001b[0;34m,\u001b[0m\u001b[0;34m'a'\u001b[0m\u001b[0;34m,\u001b[0m\u001b[0;36m1.2\u001b[0m\u001b[0;34m,\u001b[0m\u001b[0;34m(\u001b[0m\u001b[0;34m'a'\u001b[0m\u001b[0;34m,\u001b[0m\u001b[0;34m'b'\u001b[0m\u001b[0;34m)\u001b[0m\u001b[0;34m)\u001b[0m \u001b[0;31m# we will try to change the first index of this tuple\u001b[0m\u001b[0;34m\u001b[0m\u001b[0;34m\u001b[0m\u001b[0m\n\u001b[0;32m----> 2\u001b[0;31m \u001b[0mvar\u001b[0m\u001b[0;34m[\u001b[0m\u001b[0;36m0\u001b[0m\u001b[0;34m]\u001b[0m \u001b[0;34m=\u001b[0m \u001b[0;36m2\u001b[0m\u001b[0;34m\u001b[0m\u001b[0;34m\u001b[0m\u001b[0m\n\u001b[0m",
      "\u001b[0;31mTypeError\u001b[0m: 'tuple' object does not support item assignment"
     ]
    }
   ],
   "source": [
    "var = (1,2,'a',1.2,('a','b')) # we will try to change the first index of this tuple\n",
    "var[0] = 2 # notice that this throws an error"
   ]
  },
  {
   "cell_type": "code",
   "execution_count": 11,
   "id": "255feddc",
   "metadata": {},
   "outputs": [
    {
     "name": "stdout",
     "output_type": "stream",
     "text": [
      "old tuple --> (1, 2, 'a', 1.2, ('a', 'b'))\n",
      "new tuple --> (1.2, 2, 'a', 1.2, ('a', 'b'))\n"
     ]
    }
   ],
   "source": [
    "var = (1,2,'a',1.2,('a','b')) # to change the first element of a tuple we have declared a new tuple altogether\n",
    "print(\"old tuple -->\",var)\n",
    "var = (1.2,2,'a',1.2,('a','b'))\n",
    "print(\"new tuple -->\",var)"
   ]
  },
  {
   "cell_type": "markdown",
   "id": "a5267549",
   "metadata": {},
   "source": [
    "## Sets\n",
    "### Declaration and Properties\n",
    "\n",
    "<p>Python list is a collection of objects enclosed by curly braces { }</p>"
   ]
  },
  {
   "cell_type": "code",
   "execution_count": 13,
   "id": "0016d729",
   "metadata": {},
   "outputs": [
    {
     "name": "stdout",
     "output_type": "stream",
     "text": [
      "<class 'set'>\n",
      "{1, 2, 3}\n"
     ]
    }
   ],
   "source": [
    "var = {1,2,3}\n",
    "print(type(var))\n",
    "print(var)"
   ]
  },
  {
   "cell_type": "markdown",
   "id": "ef9e890d",
   "metadata": {},
   "source": [
    "<b>Sets are heterogeneous</b>\n",
    "- members of a sets can be of simple data type (unhashable type) \n",
    "- other list and sets cannot be added"
   ]
  },
  {
   "cell_type": "code",
   "execution_count": 18,
   "id": "1c9d9acf",
   "metadata": {},
   "outputs": [
    {
     "name": "stdout",
     "output_type": "stream",
     "text": [
      "{1, 2, 'a'}\n"
     ]
    }
   ],
   "source": [
    "var = {1,2,'a'}\n",
    "print(var)"
   ]
  },
  {
   "cell_type": "markdown",
   "id": "8b94470f",
   "metadata": {},
   "source": [
    "<b>Sets are unordered</b>\n",
    "- members of set cannot be accessed by index"
   ]
  },
  {
   "cell_type": "markdown",
   "id": "084d5783",
   "metadata": {},
   "source": [
    "<b>Sets are immutable</b>\n",
    "- Individual elements of a set cannot be changed without declaring a new set\n",
    "- To Change an element of a set declare a new set object\n",
    "- Also Duplicates values are not allowed in a set , if you add duplicate it will be considered as a single object"
   ]
  },
  {
   "cell_type": "code",
   "execution_count": 21,
   "id": "7f158019",
   "metadata": {},
   "outputs": [
    {
     "name": "stdout",
     "output_type": "stream",
     "text": [
      "{1, 2}\n"
     ]
    }
   ],
   "source": [
    "var = {1,2,1} # Declaring a set with duplicates \n",
    "print(var) # notice that only 1 is present only once"
   ]
  },
  {
   "cell_type": "markdown",
   "id": "48ae2b67",
   "metadata": {},
   "source": [
    "## Dictonary\n",
    "### Declaration and Properties\n",
    "\n",
    "<p>Python dictonary is a collection of objects enclosed by curly braces { }</p>\n",
    "<p>dictonaries are a combination of key value pair seperated by : sign</p>\n",
    "<p>to acces a values use the key in square braces</p>\n"
   ]
  },
  {
   "cell_type": "code",
   "execution_count": 22,
   "id": "35c66726",
   "metadata": {},
   "outputs": [
    {
     "name": "stdout",
     "output_type": "stream",
     "text": [
      "<class 'dict'>\n"
     ]
    }
   ],
   "source": [
    "var = {'a':1}\n",
    "print(type(var))"
   ]
  },
  {
   "cell_type": "code",
   "execution_count": 23,
   "id": "17ba91a9",
   "metadata": {},
   "outputs": [
    {
     "name": "stdout",
     "output_type": "stream",
     "text": [
      "1\n"
     ]
    }
   ],
   "source": [
    "print(var['a']) # accessing the first element of the dict"
   ]
  },
  {
   "cell_type": "markdown",
   "id": "53d1ef74",
   "metadata": {},
   "source": [
    "<b>keys of dictonary are heterogeneous</b>\n",
    "- members of a keys can be of any simple data type"
   ]
  },
  {
   "cell_type": "code",
   "execution_count": 28,
   "id": "9223aa63",
   "metadata": {},
   "outputs": [
    {
     "name": "stdout",
     "output_type": "stream",
     "text": [
      "{'a': 1, 'b': 2, 4: 'a'}\n"
     ]
    }
   ],
   "source": [
    "var = {'a':1,'b':2,4:'a'}\n",
    "print(var)"
   ]
  },
  {
   "cell_type": "code",
   "execution_count": 29,
   "id": "10e2088c",
   "metadata": {},
   "outputs": [
    {
     "ename": "TypeError",
     "evalue": "unhashable type: 'list'",
     "output_type": "error",
     "traceback": [
      "\u001b[0;31m---------------------------------------------------------------------------\u001b[0m",
      "\u001b[0;31mTypeError\u001b[0m                                 Traceback (most recent call last)",
      "\u001b[0;32m<ipython-input-29-8e81735dba73>\u001b[0m in \u001b[0;36m<module>\u001b[0;34m\u001b[0m\n\u001b[0;32m----> 1\u001b[0;31m \u001b[0mvar\u001b[0m \u001b[0;34m=\u001b[0m \u001b[0;34m{\u001b[0m\u001b[0;34m'a'\u001b[0m\u001b[0;34m:\u001b[0m\u001b[0;36m1\u001b[0m\u001b[0;34m,\u001b[0m\u001b[0;34m'b'\u001b[0m\u001b[0;34m:\u001b[0m\u001b[0;36m2\u001b[0m\u001b[0;34m,\u001b[0m\u001b[0;36m4\u001b[0m\u001b[0;34m:\u001b[0m\u001b[0;34m'a'\u001b[0m\u001b[0;34m,\u001b[0m\u001b[0;34m[\u001b[0m\u001b[0;36m1\u001b[0m\u001b[0;34m]\u001b[0m\u001b[0;34m:\u001b[0m\u001b[0;34m'a'\u001b[0m\u001b[0;34m}\u001b[0m \u001b[0;31m#adding a list as a key will throw an error\u001b[0m\u001b[0;34m\u001b[0m\u001b[0;34m\u001b[0m\u001b[0m\n\u001b[0m\u001b[1;32m      2\u001b[0m \u001b[0mprint\u001b[0m\u001b[0;34m(\u001b[0m\u001b[0mvar\u001b[0m\u001b[0;34m)\u001b[0m\u001b[0;34m\u001b[0m\u001b[0;34m\u001b[0m\u001b[0m\n",
      "\u001b[0;31mTypeError\u001b[0m: unhashable type: 'list'"
     ]
    }
   ],
   "source": [
    "var = {'a':1,'b':2,4:'a',[1]:'a'} #adding a list as a key will throw an error \n",
    "print(var)"
   ]
  },
  {
   "cell_type": "code",
   "execution_count": 30,
   "id": "67df0e73",
   "metadata": {},
   "outputs": [
    {
     "name": "stdout",
     "output_type": "stream",
     "text": [
      "{'a': 1, 'b': 1, 4: 'a', 1: ['a']}\n"
     ]
    }
   ],
   "source": [
    "var = {'a':1,'b':(1),4:'a',1:['a']} #but list and sets can be added as values\n",
    "print(var)"
   ]
  },
  {
   "cell_type": "markdown",
   "id": "1d99b504",
   "metadata": {},
   "source": [
    "<b>Dictonaries are mutable</b>\n",
    "- a value of a dictonary can be changed by accessing its key assiging it to new value\n",
    "- Also Duplicates values are not allowed in key of a dict,if you provide duplicate values the newest values will be considered"
   ]
  },
  {
   "cell_type": "code",
   "execution_count": 32,
   "id": "3d6f2101",
   "metadata": {},
   "outputs": [
    {
     "name": "stdout",
     "output_type": "stream",
     "text": [
      "Before Changing {'a': 1, 'b': 1, 4: 'a', 1: ['a']}\n",
      "After Changing {'a': 2, 'b': 1, 4: 'a', 1: ['a']}\n"
     ]
    }
   ],
   "source": [
    "var = {'a':1,'b':(1),4:'a',1:['a']}\n",
    "print(\"Before Changing\",var)\n",
    "var['a']=2\n",
    "print(\"After Changing\",var)"
   ]
  },
  {
   "cell_type": "code",
   "execution_count": 34,
   "id": "4876ebbf",
   "metadata": {},
   "outputs": [
    {
     "data": {
      "text/plain": [
       "{'a': 2}"
      ]
     },
     "execution_count": 34,
     "metadata": {},
     "output_type": "execute_result"
    }
   ],
   "source": [
    "var = {'a':1,'a':2} # value for key a will be 2 here\n",
    "var"
   ]
  },
  {
   "cell_type": "markdown",
   "id": "9cc05c52",
   "metadata": {},
   "source": [
    "<b>Accessing keys and values of a dictonary</b>\n",
    "- use keys() method to access all the keys and values() method to access all the values"
   ]
  },
  {
   "cell_type": "code",
   "execution_count": 37,
   "id": "3baec489",
   "metadata": {},
   "outputs": [
    {
     "name": "stdout",
     "output_type": "stream",
     "text": [
      "Keys --> dict_keys(['a', 'b', 4, 1])\n",
      "Values --> dict_values([1, 1, 'a', ['a']])\n"
     ]
    }
   ],
   "source": [
    "var = {'a':1,'b':(1),4:'a',1:['a']}\n",
    "print(\"Keys -->\",var.keys())\n",
    "print(\"Values -->\",var.values())"
   ]
  },
  {
   "cell_type": "markdown",
   "id": "53c1bf88",
   "metadata": {},
   "source": [
    "# Data Type Conversion\n",
    "- conver a variable to any data type using the data type's conversion function \n",
    "- use int() to conver a variable to integer, similarly we have functions like float(), str(), bool() etc\n",
    "- Python will simple throw and error if the data type conversion is not possible"
   ]
  },
  {
   "cell_type": "code",
   "execution_count": 42,
   "id": "b5a933c7",
   "metadata": {},
   "outputs": [
    {
     "name": "stdout",
     "output_type": "stream",
     "text": [
      "Before float conversion  1\n",
      "After float conversion  1.0\n"
     ]
    }
   ],
   "source": [
    "# Int to float\n",
    "var_int = 1\n",
    "print(\"Before float conversion \",var_int)\n",
    "print(\"After float conversion \",float(var_int))"
   ]
  },
  {
   "cell_type": "code",
   "execution_count": 43,
   "id": "290cba29",
   "metadata": {},
   "outputs": [
    {
     "name": "stdout",
     "output_type": "stream",
     "text": [
      "Before int conversion  1.9\n",
      "After int conversion  1\n"
     ]
    }
   ],
   "source": [
    "# float to int\n",
    "var_float = 1.9\n",
    "print(\"Before int conversion \",var_float)\n",
    "print(\"After int conversion \",int(var_float)) # notice that only integer part will be extracted"
   ]
  },
  {
   "cell_type": "code",
   "execution_count": 48,
   "id": "b7b77c51",
   "metadata": {},
   "outputs": [
    {
     "name": "stdout",
     "output_type": "stream",
     "text": [
      "1\n"
     ]
    }
   ],
   "source": [
    "# String to Int\n",
    "var_str = '1' # non numerci values here will throw an error\n",
    "print(int(var_str))"
   ]
  },
  {
   "cell_type": "code",
   "execution_count": 49,
   "id": "9459a338",
   "metadata": {},
   "outputs": [
    {
     "name": "stdout",
     "output_type": "stream",
     "text": [
      "1.0\n"
     ]
    }
   ],
   "source": [
    "# str to float\n",
    "var_str = '1'\n",
    "print(float(var_str))"
   ]
  },
  {
   "cell_type": "code",
   "execution_count": 51,
   "id": "b7b25c45",
   "metadata": {},
   "outputs": [
    {
     "name": "stdout",
     "output_type": "stream",
     "text": [
      "integer to string --> 1\n",
      "float to string --> 1.1\n"
     ]
    }
   ],
   "source": [
    "# Int to string & float to string\n",
    "var_int = 1\n",
    "print(\"integer to string -->\",str(var_int))\n",
    "var_float = 1.1\n",
    "print(\"float to string -->\",str(var_float))"
   ]
  },
  {
   "cell_type": "code",
   "execution_count": 52,
   "id": "f14ddb10",
   "metadata": {},
   "outputs": [
    {
     "name": "stdout",
     "output_type": "stream",
     "text": [
      "integer to Boolean --> True\n",
      "float to Boolean --> True\n"
     ]
    }
   ],
   "source": [
    "# Int or Float to boolean\n",
    "var_int = 1\n",
    "print(\"integer to Boolean -->\",bool(var_int)) \n",
    "var_float = 1.1\n",
    "print(\"float to Boolean -->\",bool(var_float))"
   ]
  },
  {
   "cell_type": "code",
   "execution_count": 60,
   "id": "a6431b20",
   "metadata": {},
   "outputs": [
    {
     "name": "stdout",
     "output_type": "stream",
     "text": [
      "(1, 2, 3, 4, 5)\n",
      "[1, 2, 3, 4, 5]\n"
     ]
    }
   ],
   "source": [
    "# tuple to list & list to tuple\n",
    "var_list = [1,2,3,4,5]\n",
    "print(tuple(var_list))\n",
    "var_tuple = (1,2,3,4,5)\n",
    "print(list(var_list))"
   ]
  },
  {
   "cell_type": "code",
   "execution_count": 64,
   "id": "ee816e3c",
   "metadata": {},
   "outputs": [
    {
     "name": "stdout",
     "output_type": "stream",
     "text": [
      "String to list ['H', 'e', 'l', 'l', 'o', ' ', 'W', 'o', 'r', 'l', 'd']\n",
      "String to tuple ('H', 'e', 'l', 'l', 'o', ' ', 'W', 'o', 'r', 'l', 'd')\n"
     ]
    }
   ],
   "source": [
    "# String to list or tuple\n",
    "var_str = \"Hello World\"\n",
    "print(\"String to list\",list(var_str))\n",
    "print(\"String to tuple\",tuple(var_str))\n"
   ]
  },
  {
   "cell_type": "code",
   "execution_count": null,
   "id": "efe26280",
   "metadata": {},
   "outputs": [],
   "source": []
  }
 ],
 "metadata": {
  "kernelspec": {
   "display_name": "Python 3",
   "language": "python",
   "name": "python3"
  },
  "language_info": {
   "codemirror_mode": {
    "name": "ipython",
    "version": 3
   },
   "file_extension": ".py",
   "mimetype": "text/x-python",
   "name": "python",
   "nbconvert_exporter": "python",
   "pygments_lexer": "ipython3",
   "version": "3.8.8"
  }
 },
 "nbformat": 4,
 "nbformat_minor": 5
}
