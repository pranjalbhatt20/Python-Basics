{
 "cells": [
  {
   "cell_type": "markdown",
   "id": "6cab17f0",
   "metadata": {},
   "source": [
    "# List"
   ]
  },
  {
   "cell_type": "code",
   "execution_count": 2,
   "id": "5e1b618f",
   "metadata": {},
   "outputs": [
    {
     "name": "stdout",
     "output_type": "stream",
     "text": [
      "world\n",
      "wor\n"
     ]
    }
   ],
   "source": [
    "# accessing element in a nested list \n",
    "sample_list = [[\"Hello\",\"world\"],[\"we are learning python\"]]\n",
    "print(sample_list[0][1])\n",
    "print(sample_list[0][1][:3])\n"
   ]
  },
  {
   "cell_type": "code",
   "execution_count": 3,
   "id": "b095b7a8",
   "metadata": {},
   "outputs": [
    {
     "name": "stdout",
     "output_type": "stream",
     "text": [
      "23\n"
     ]
    }
   ],
   "source": [
    "# get 3rd elment from the last in a list\n",
    "sample_list = [20,21,22,23,24,25]\n",
    "print(sample_list[-3])\n"
   ]
  },
  {
   "cell_type": "code",
   "execution_count": 4,
   "id": "ba12be79",
   "metadata": {},
   "outputs": [
    {
     "data": {
      "text/plain": [
       "6"
      ]
     },
     "execution_count": 4,
     "metadata": {},
     "output_type": "execute_result"
    }
   ],
   "source": [
    "# length of a list \n",
    "len(sample_list)"
   ]
  },
  {
   "cell_type": "code",
   "execution_count": 5,
   "id": "10b29ff0",
   "metadata": {},
   "outputs": [
    {
     "name": "stdout",
     "output_type": "stream",
     "text": [
      "list before adding an element [20, 21, 22, 23, 24, 25]\n",
      "list after adding an element [20, 21, 22, 23, 24, 25, 'a']\n"
     ]
    }
   ],
   "source": [
    "# adding an element to a list\n",
    "print(f\"list before adding an element {sample_list}\")\n",
    "sample_list.append('a')\n",
    "print(f\"list after adding an element {sample_list}\")"
   ]
  },
  {
   "cell_type": "code",
   "execution_count": 6,
   "id": "35e637bc",
   "metadata": {},
   "outputs": [
    {
     "data": {
      "text/plain": [
       "['b', 20, 21, 22, 23, 24, 25, 'a']"
      ]
     },
     "execution_count": 6,
     "metadata": {},
     "output_type": "execute_result"
    }
   ],
   "source": [
    "# if you want to add element at any specific index (provide index and the value) all the values will be shifted to right of \n",
    "# the list \n",
    "sample_list.insert(0,'b')\n",
    "sample_list"
   ]
  },
  {
   "cell_type": "code",
   "execution_count": 7,
   "id": "92d60dcd",
   "metadata": {},
   "outputs": [
    {
     "name": "stdout",
     "output_type": "stream",
     "text": [
      "['a', 'b', 'c', 'd', 'e', 'f']\n"
     ]
    }
   ],
   "source": [
    "# concateing two list\n",
    "list1 = ['a','b','c']\n",
    "list2 = ['d','e','f']\n",
    "print(list1+list2)"
   ]
  },
  {
   "cell_type": "code",
   "execution_count": 8,
   "id": "33124574",
   "metadata": {},
   "outputs": [
    {
     "name": "stdout",
     "output_type": "stream",
     "text": [
      "['c', 'b', 'a']\n",
      "['c', 'b', 'a']\n"
     ]
    }
   ],
   "source": [
    "# reversing a list\n",
    "print(list1[::-1]) # method 1\n",
    "list1.reverse() # method 2 actual string will be changes \n",
    "print(list1)"
   ]
  },
  {
   "cell_type": "code",
   "execution_count": 11,
   "id": "13afd7d3",
   "metadata": {},
   "outputs": [
    {
     "data": {
      "text/plain": [
       "['a', 'b']"
      ]
     },
     "execution_count": 11,
     "metadata": {},
     "output_type": "execute_result"
    }
   ],
   "source": [
    "# remove an element from list\n",
    "list1=['a','b','c']\n",
    "list1.remove('c')\n",
    "list1"
   ]
  },
  {
   "cell_type": "code",
   "execution_count": 13,
   "id": "2892952e",
   "metadata": {},
   "outputs": [
    {
     "name": "stdout",
     "output_type": "stream",
     "text": [
      "['a', 'b']\n",
      "['b', 'c']\n"
     ]
    }
   ],
   "source": [
    "# remove element using pop method\n",
    "list1=['a','b','c']\n",
    "list1.pop() # pop is used without index last element will be removed \n",
    "print(list1)\n",
    "list1=['a','b','c']\n",
    "list1.pop(0) # pop is used without index last element will be removed \n",
    "print(list1) # if pop is used with index the element of index will be removed\n"
   ]
  },
  {
   "cell_type": "code",
   "execution_count": 15,
   "id": "7712c6b0",
   "metadata": {},
   "outputs": [
    {
     "name": "stdout",
     "output_type": "stream",
     "text": [
      "['b', 'c', 1, 2, 3, 4, 5]\n",
      "['a', 'b', 'c', 1, 2]\n",
      "2\n"
     ]
    }
   ],
   "source": [
    "# slicing dicing a list \n",
    "list1=['a','b','c',1,2,3,4,5]\n",
    "print(list1[1:]) # get all the element after 1 index inclding 1 \n",
    "print(list1[:5]) # get all element before 5th index \n",
    "print(list1[-4]) # get 4th element from end of the list "
   ]
  },
  {
   "cell_type": "code",
   "execution_count": 19,
   "id": "e9f3a469",
   "metadata": {},
   "outputs": [
    {
     "name": "stdout",
     "output_type": "stream",
     "text": [
      "10\n",
      "9\n",
      "1\n",
      "2\n",
      "3\n",
      "4\n",
      "5\n",
      "Simple list comprehension\n",
      "[10, 9, 1, 2, 3, 4, 5]\n",
      "list comprehension with transformations\n",
      "[20, 18, 2, 4, 6, 8, 10]\n",
      "list comprehension with transformations and filter\n",
      "[20, 4, 8]\n"
     ]
    }
   ],
   "source": [
    "# List comprehension - writing for in a list \n",
    "l=[10,9, 1, 2, 3, 4, 5]\n",
    "for i in l :\n",
    "    print(i) # instead of this we can wrie below statement\n",
    "print(\"Simple list comprehension\")\n",
    "print([i for i in l]) # simple list comprehension \n",
    "print(\"list comprehension with transformations\")\n",
    "print([i*2 for i in l]) # simple list where each element is doubled \n",
    "print(\"list comprehension with transformations and filter\")\n",
    "print([i*2 for i in l if i%2==0]) # list comprehension with filter "
   ]
  },
  {
   "cell_type": "code",
   "execution_count": 20,
   "id": "655aa686",
   "metadata": {},
   "outputs": [
    {
     "data": {
      "text/plain": [
       "[[20, 18, 2, 4, 6, 8, 10], [20, 18, 2, 4, 6, 8, 10], [20, 18, 8, 10]]"
      ]
     },
     "execution_count": 20,
     "metadata": {},
     "output_type": "execute_result"
    }
   ],
   "source": [
    "# nested list comprehension \n",
    "l=[[10,9, 1, 2, 3, 4, 5],[10,9, 1, 2, 3, 4, 5],[10,9,4, 5]] # doubling each element of the sublist\n",
    "[[j*2 for j in i] for i in l]"
   ]
  },
  {
   "cell_type": "code",
   "execution_count": 51,
   "id": "0183f699",
   "metadata": {},
   "outputs": [
    {
     "data": {
      "text/plain": [
       "1"
      ]
     },
     "execution_count": 51,
     "metadata": {},
     "output_type": "execute_result"
    }
   ],
   "source": [
    "# get the frequency of an element is a list\n",
    "sample_list.count(22)"
   ]
  },
  {
   "cell_type": "code",
   "execution_count": 60,
   "id": "d7fb8e29",
   "metadata": {},
   "outputs": [
    {
     "name": "stdout",
     "output_type": "stream",
     "text": [
      "68\n",
      "2\n",
      "20\n"
     ]
    }
   ],
   "source": [
    "# arithmatic operations like max , min, sum,len are also possible \n",
    "sample_list=[20, 18, 2, 4, 6, 8, 10]\n",
    "print(sum(sample_list))\n",
    "print(min(sample_list))\n",
    "print(max(sample_list))\n",
    "print(len(sample_list))"
   ]
  },
  {
   "cell_type": "markdown",
   "id": "14749c93",
   "metadata": {},
   "source": [
    "# Sets"
   ]
  },
  {
   "cell_type": "code",
   "execution_count": 22,
   "id": "e23aadc3",
   "metadata": {},
   "outputs": [
    {
     "name": "stdout",
     "output_type": "stream",
     "text": [
      "Before adding  {1, 2, 3, 5, 8, 10}\n",
      "After adding  {1, 2, 3, 5, '12', 8, 10}\n"
     ]
    }
   ],
   "source": [
    "# adding element to a set- since sets are mutable new elements can be added to it, but item assignment is not possible , since \n",
    "# sets are unorder\n",
    "\n",
    "sample_set={1,2,3,5,8,10}\n",
    "print(\"Before adding \",sample_set)\n",
    "sample_set.add('12')\n",
    "print(\"After adding \",sample_set)"
   ]
  },
  {
   "cell_type": "code",
   "execution_count": 27,
   "id": "c9b50a53",
   "metadata": {},
   "outputs": [
    {
     "data": {
      "text/plain": [
       "{1, 2, 3, 5, 8, 10}"
      ]
     },
     "execution_count": 27,
     "metadata": {},
     "output_type": "execute_result"
    }
   ],
   "source": [
    "# sets can only have unique value \n",
    "sample_set={1,2,3,5,8,10}\n",
    "sample_set.add(1) # adding 1 again will not duplicate the values in a set\n",
    "sample_set"
   ]
  },
  {
   "cell_type": "code",
   "execution_count": 31,
   "id": "06adab88",
   "metadata": {},
   "outputs": [
    {
     "data": {
      "text/plain": [
       "{1, 2, 3, 4, 5, 6, 7, 8}"
      ]
     },
     "execution_count": 31,
     "metadata": {},
     "output_type": "execute_result"
    }
   ],
   "source": [
    "# union operation in sets\n",
    "sample_set_1={1,2,3,4,5}\n",
    "sample_set_2={4,5,6,7,8} # notince that 4 and 5 are common in 2 sets \n",
    "sample_set_1.union(sample_set_2)# the new set will have all the variables but without duplicates"
   ]
  },
  {
   "cell_type": "code",
   "execution_count": 33,
   "id": "312d8039",
   "metadata": {},
   "outputs": [
    {
     "data": {
      "text/plain": [
       "{4, 5}"
      ]
     },
     "execution_count": 33,
     "metadata": {},
     "output_type": "execute_result"
    }
   ],
   "source": [
    "# intersection operation in sets\n",
    "sample_set_1={1,2,3,4,5}\n",
    "sample_set_2={4,5,6,7,8} # notince that 4 and 5 are common in 2 sets \n",
    "sample_set_1.intersection(sample_set_2)# the new set will have all only common variable in 2 sets "
   ]
  },
  {
   "cell_type": "code",
   "execution_count": 35,
   "id": "98851f2d",
   "metadata": {},
   "outputs": [
    {
     "data": {
      "text/plain": [
       "{1, 2, 3}"
      ]
     },
     "execution_count": 35,
     "metadata": {},
     "output_type": "execute_result"
    }
   ],
   "source": [
    "# finding difference in two sets\n",
    "sample_set_1={1,2,3,4,5}\n",
    "sample_set_2={4,5,6,7,8} # notince that 4 and 5 are common in 2 sets \n",
    "sample_set_1.difference(sample_set_2)# values in 1 which are not present in set 2"
   ]
  },
  {
   "cell_type": "code",
   "execution_count": 36,
   "id": "6a8135c9",
   "metadata": {},
   "outputs": [
    {
     "data": {
      "text/plain": [
       "True"
      ]
     },
     "execution_count": 36,
     "metadata": {},
     "output_type": "execute_result"
    }
   ],
   "source": [
    "# Operators with set \n",
    "sample_set_1={1,2,3,4,5}\n",
    "sample_set_2={5,4,3,2,1} # since sets are inordered below 2 sets are equal \n",
    "sample_set_1==sample_set_2"
   ]
  },
  {
   "cell_type": "code",
   "execution_count": 39,
   "id": "f465c2ce",
   "metadata": {},
   "outputs": [
    {
     "name": "stdout",
     "output_type": "stream",
     "text": [
      "Checking inequality\n",
      "True\n",
      "Checking subset\n",
      "False\n",
      "Checking superset\n",
      "True\n"
     ]
    }
   ],
   "source": [
    "# inequality, subset and superset can also be checked in sets \n",
    "sample_set_1={1,2,3,4,5}\n",
    "sample_set_2={4,3,2,1} # since sets are inordered below 2 sets are equal \n",
    "print(\"Checking inequality\")\n",
    "print(sample_set_1!=sample_set_2 )# checking inequality in sets\n",
    "\n",
    "print(\"Checking subset\")\n",
    "print(sample_set_1<=sample_set_2 )# checking subset\n",
    "\n",
    "print(\"Checking superset\")\n",
    "print(sample_set_1>=sample_set_2 )# checking superset\n"
   ]
  },
  {
   "cell_type": "markdown",
   "id": "25704b44",
   "metadata": {},
   "source": [
    "# Tuples"
   ]
  },
  {
   "cell_type": "code",
   "execution_count": 40,
   "id": "58d65994",
   "metadata": {},
   "outputs": [],
   "source": [
    "import random"
   ]
  },
  {
   "cell_type": "code",
   "execution_count": 47,
   "id": "fe5c1665",
   "metadata": {},
   "outputs": [
    {
     "name": "stdout",
     "output_type": "stream",
     "text": [
      "10\n",
      "(10, 49, 65, 80, 71, 97)\n",
      "(84, 46, 73, 52, 10, 49, 65, 80, 71, 97)\n",
      "(66, 53, 75, 26, 90, 7, 36, 6, 99, 39, 100, 15, 59, 86, 12, 26, 66, 36, 69, 75, 68, 36, 30, 63, 37, 91, 37, 17, 97, 60, 48, 18, 60, 95, 23, 55, 37, 9, 31, 56, 57, 91, 78, 28, 92, 13, 38, 59, 100, 47, 50, 61, 83, 32, 40, 45, 95, 64, 17, 95, 24, 46, 20, 97, 90, 73, 47, 48, 9, 20, 39, 32, 95, 97, 67, 48, 1, 95, 63, 8, 10, 64, 66, 13, 55, 14, 84, 78, 13, 91)\n",
      "(91, 13, 78, 84, 14, 55, 13, 66, 64, 10, 8, 63, 95, 1, 48, 67, 97, 95, 32, 39, 20, 9, 48, 47, 73, 90, 97, 20, 46, 24, 95, 17, 64, 95, 45, 40, 32, 83, 61, 50, 47, 100, 59, 38, 13, 92, 28, 78, 91, 57, 56, 31, 9, 37, 55, 23, 95, 60, 18, 48, 60, 97, 17, 37, 91, 37, 63, 30, 36, 68, 75, 69, 36, 66, 26, 12, 86, 59, 15, 100, 39, 99, 6, 36, 7, 90, 26, 75, 53, 66, 97, 71, 80, 65, 49, 10, 52, 73, 46, 84)\n"
     ]
    }
   ],
   "source": [
    "sample_tuple=tuple([random.randint(1,100) for x in range(100)])\n",
    "# tuples are index and slicing dicing like a list is also possible\n",
    "\n",
    "print(sample_tuple[4]) # access 4th element\n",
    "print(sample_tuple[4:10]) # access element from index 4 to 10\n",
    "print(sample_tuple[:10]) # access element from index 0 to 10\n",
    "print(sample_tuple[10:]) # access element from index 10 to last\n",
    "print(sample_tuple[::-1]) # reverse a tuple\n",
    "\n"
   ]
  },
  {
   "cell_type": "code",
   "execution_count": 53,
   "id": "b0bd5265",
   "metadata": {},
   "outputs": [
    {
     "name": "stdout",
     "output_type": "stream",
     "text": [
      "200\n"
     ]
    }
   ],
   "source": [
    "# concat two tuples \n",
    "sample_tuple_1=tuple([random.randint(1,10) for x in range(100)])\n",
    "sample_tuple_2=tuple([random.randint(1,10) for x in range(100)])\n",
    "print(len(sample_tuple_1+sample_tuple_2))"
   ]
  },
  {
   "cell_type": "code",
   "execution_count": 57,
   "id": "4b60e78c",
   "metadata": {},
   "outputs": [
    {
     "name": "stdout",
     "output_type": "stream",
     "text": [
      "5\n"
     ]
    },
    {
     "data": {
      "text/plain": [
       "10"
      ]
     },
     "execution_count": 57,
     "metadata": {},
     "output_type": "execute_result"
    }
   ],
   "source": [
    "# get first index of a value in tuple \n",
    "print(sample_tuple_1.index(2))\n",
    "\n",
    "# get freq of an element in a tuple  \n",
    "sample_tuple_1.count(2)"
   ]
  },
  {
   "cell_type": "code",
   "execution_count": 61,
   "id": "213ae14c",
   "metadata": {},
   "outputs": [
    {
     "name": "stdout",
     "output_type": "stream",
     "text": [
      "68\n",
      "2\n",
      "20\n",
      "7\n"
     ]
    }
   ],
   "source": [
    "# operations like max , min, sum,len are also possible \n",
    "sample_tuple_1=(20, 18, 2, 4, 6, 8, 10)\n",
    "print(sum(sample_tuple_1))\n",
    "print(min(sample_tuple_1))\n",
    "print(max(sample_tuple_1))\n",
    "print(len(sample_tuple_1))"
   ]
  },
  {
   "cell_type": "markdown",
   "id": "07fed4f7",
   "metadata": {},
   "source": [
    "# Dictonary"
   ]
  },
  {
   "cell_type": "code",
   "execution_count": 64,
   "id": "64967de6",
   "metadata": {},
   "outputs": [
    {
     "name": "stdout",
     "output_type": "stream",
     "text": [
      "Keys --> dict_keys(['a', 'b', 'c', 'd'])\n",
      "values --> dict_values([1, 2, 3, 4])\n"
     ]
    }
   ],
   "source": [
    "# get all key and values of a dict \n",
    "sample_dict={'a':1,'b':2,'c':3,'d':4}\n",
    "print(\"Keys -->\",sample_dict.keys())\n",
    "print(\"values -->\",sample_dict.values())"
   ]
  },
  {
   "cell_type": "code",
   "execution_count": 65,
   "id": "93ad8967",
   "metadata": {},
   "outputs": [
    {
     "name": "stdout",
     "output_type": "stream",
     "text": [
      "Before removing element\n",
      "{'a': 1, 'b': 2, 'c': 3, 'd': 4}\n",
      "After removing element\n",
      "{'b': 2, 'c': 3, 'd': 4}\n"
     ]
    }
   ],
   "source": [
    "# remove the element using a given key \n",
    "print(\"Before removing element\")\n",
    "sample_dict={'a':1,'b':2,'c':3,'d':4}\n",
    "print(sample_dict)\n",
    "print(\"After removing element\")\n",
    "sample_dict.pop('a')\n",
    "print(sample_dict)"
   ]
  },
  {
   "cell_type": "code",
   "execution_count": 67,
   "id": "d092597f",
   "metadata": {},
   "outputs": [
    {
     "name": "stdout",
     "output_type": "stream",
     "text": [
      "For key b the value is 2\n",
      "For key c the value is 3\n",
      "For key d the value is 4\n"
     ]
    },
    {
     "data": {
      "text/plain": [
       "['for key b the values is 2',\n",
       " 'for key c the values is 3',\n",
       " 'for key d the values is 4']"
      ]
     },
     "execution_count": 67,
     "metadata": {},
     "output_type": "execute_result"
    }
   ],
   "source": [
    "# iterator over keys and values together\n",
    "# method 1\n",
    "for k,v in zip(sample_dict.keys(),sample_dict.values()):\n",
    "    print(f\"For key {k} the value is {v}\")\n",
    "\n",
    "# method 2 using list comprehension\n",
    "[f\"for key {k} the values is {v}\" for k,v in sample_dict.items()]"
   ]
  },
  {
   "cell_type": "code",
   "execution_count": 69,
   "id": "be7ff3b5",
   "metadata": {},
   "outputs": [
    {
     "data": {
      "text/plain": [
       "{5: 12, 3: 13, 1: 6, 7: 17, 8: 13, 6: 9, 4: 9, 10: 8, 2: 6, 9: 7}"
      ]
     },
     "execution_count": 69,
     "metadata": {},
     "output_type": "execute_result"
    }
   ],
   "source": [
    "# Example 1 - create a dict from a list where keys are values of list and values are count of that value in list\n",
    "sample_list=[random.randint(1,10) for x in range(100)]\n",
    "final_dict={}\n",
    "for i in sample_list:\n",
    "    if i in final_dict.keys():\n",
    "        final_dict[i]=final_dict[i]+1\n",
    "    else:\n",
    "        final_dict[i]=1\n",
    "final_dict"
   ]
  },
  {
   "cell_type": "code",
   "execution_count": 72,
   "id": "136a1c32",
   "metadata": {},
   "outputs": [
    {
     "data": {
      "text/plain": [
       "[1, 2, 3, 4, 5, 6, 7, 8, 9, 10]"
      ]
     },
     "execution_count": 72,
     "metadata": {},
     "output_type": "execute_result"
    }
   ],
   "source": [
    "# Example 2 -  Write a Python function to remove duplicates from a list and return the unique elements.\n",
    "sample_list=[random.randint(1,10) for x in range(100)]\n",
    "# method 1 - using loop\n",
    "final_list=[]\n",
    "for i in sample_list:\n",
    "    if i in final_list:\n",
    "        pass \n",
    "    else:\n",
    "        final_list.append(i)\n",
    "\n",
    "# method 2 - using set \n",
    "list(set(sample_list))"
   ]
  },
  {
   "cell_type": "code",
   "execution_count": null,
   "id": "060a221f",
   "metadata": {},
   "outputs": [],
   "source": []
  }
 ],
 "metadata": {
  "kernelspec": {
   "display_name": "Python 3",
   "language": "python",
   "name": "python3"
  },
  "language_info": {
   "codemirror_mode": {
    "name": "ipython",
    "version": 3
   },
   "file_extension": ".py",
   "mimetype": "text/x-python",
   "name": "python",
   "nbconvert_exporter": "python",
   "pygments_lexer": "ipython3",
   "version": "3.8.8"
  }
 },
 "nbformat": 4,
 "nbformat_minor": 5
}
