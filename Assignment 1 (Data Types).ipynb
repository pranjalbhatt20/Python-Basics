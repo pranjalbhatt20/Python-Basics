{
 "cells": [
  {
   "cell_type": "markdown",
   "id": "b3b7654c",
   "metadata": {},
   "source": [
    "Q1. Under what scanario while converting from int to bool type will bool() function return a False value"
   ]
  },
  {
   "cell_type": "code",
   "execution_count": null,
   "id": "c0c6f68c",
   "metadata": {},
   "outputs": [],
   "source": []
  },
  {
   "cell_type": "markdown",
   "id": "5b0273da",
   "metadata": {},
   "source": [
    "Q2. Take a  tuple variable and convert it to a list save this list to a new variable and make the first element of\n",
    "list equal to the last element."
   ]
  },
  {
   "cell_type": "code",
   "execution_count": null,
   "id": "92182192",
   "metadata": {},
   "outputs": [],
   "source": []
  },
  {
   "cell_type": "markdown",
   "id": "31c03d59",
   "metadata": {},
   "source": [
    "Q3. Take a list variable and convert it to a tuple save this tuple to a new variable and make the first element of\n",
    " equal to the last element. # Explaing if there is an error while conversion"
   ]
  },
  {
   "cell_type": "code",
   "execution_count": null,
   "id": "ed4be998",
   "metadata": {},
   "outputs": [],
   "source": []
  }
 ],
 "metadata": {
  "kernelspec": {
   "display_name": "Python 3",
   "language": "python",
   "name": "python3"
  },
  "language_info": {
   "codemirror_mode": {
    "name": "ipython",
    "version": 3
   },
   "file_extension": ".py",
   "mimetype": "text/x-python",
   "name": "python",
   "nbconvert_exporter": "python",
   "pygments_lexer": "ipython3",
   "version": "3.8.8"
  }
 },
 "nbformat": 4,
 "nbformat_minor": 5
}
