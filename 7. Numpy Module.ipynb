{
 "cells": [
  {
   "cell_type": "markdown",
   "id": "d961d0b6",
   "metadata": {},
   "source": [
    "# What is NumPy?\n",
    "- NumPy is a Python library used for working with arrays.\n",
    "\n",
    "- It also has functions for working in domain of linear algebra, fourier transform, and matrices."
   ]
  },
  {
   "cell_type": "markdown",
   "id": "c0172ddf",
   "metadata": {},
   "source": [
    "# Why Use NumPy?\n",
    "- In Python we have lists that serve the purpose of arrays, but they are slow to process.\n",
    "\n",
    "- NumPy aims to provide an array object that is up to 50x faster than traditional Python lists.\n",
    "\n",
    "- The array object in NumPy is called ndarray, it provides a lot of supporting functions that make working with ndarray very #easy."
   ]
  },
  {
   "cell_type": "code",
   "execution_count": 1,
   "id": "dfe903f0",
   "metadata": {},
   "outputs": [],
   "source": [
    "# importing numpy \n",
    "import numpy as np"
   ]
  },
  {
   "cell_type": "code",
   "execution_count": 5,
   "id": "f0cf139e",
   "metadata": {},
   "outputs": [
    {
     "name": "stdout",
     "output_type": "stream",
     "text": [
      "[1 2 3 4 5]\n"
     ]
    },
    {
     "data": {
      "text/plain": [
       "numpy.ndarray"
      ]
     },
     "execution_count": 5,
     "metadata": {},
     "output_type": "execute_result"
    }
   ],
   "source": [
    "# create a basic numpy array from list \n",
    "var=np.array([1,2,3,4,5])\n",
    "print(var)\n",
    "type(var)"
   ]
  },
  {
   "cell_type": "code",
   "execution_count": 6,
   "id": "c1d7b091",
   "metadata": {},
   "outputs": [
    {
     "name": "stdout",
     "output_type": "stream",
     "text": [
      "[1 2 3 4 5]\n"
     ]
    },
    {
     "data": {
      "text/plain": [
       "numpy.ndarray"
      ]
     },
     "execution_count": 6,
     "metadata": {},
     "output_type": "execute_result"
    }
   ],
   "source": [
    "# create a basic numpy array from tuple \n",
    "var=np.array((1,2,3,4,5))\n",
    "print(var)\n",
    "type(var)"
   ]
  },
  {
   "cell_type": "code",
   "execution_count": 13,
   "id": "875b0a09",
   "metadata": {},
   "outputs": [
    {
     "name": "stdout",
     "output_type": "stream",
     "text": [
      "10\n",
      "[1 2 3 4 5]\n",
      "[[1 2 3]\n",
      " [4 5 6]]\n",
      "[[[1 2 3]\n",
      "  [4 5 6]]\n",
      "\n",
      " [[1 2 3]\n",
      "  [4 5 6]]]\n"
     ]
    }
   ],
   "source": [
    "# Dimension of arrays\n",
    "# 0-d array\n",
    "arr0 = np.array(10)\n",
    "print(arr0)\n",
    "\n",
    "# 1-d array\n",
    "arr1 = np.array([1, 2, 3, 4, 5])\n",
    "print(arr1)\n",
    "\n",
    "#2-d array \n",
    "arr2 = np.array([[1, 2, 3], [4, 5, 6]])\n",
    "print(arr2)\n",
    "\n",
    "#3-d array\n",
    "arr3 = np.array([[[1, 2, 3], [4, 5, 6]], [[1, 2, 3], [4, 5, 6]]])\n",
    "print(arr3)"
   ]
  },
  {
   "cell_type": "code",
   "execution_count": 15,
   "id": "e82d6df7",
   "metadata": {},
   "outputs": [
    {
     "name": "stdout",
     "output_type": "stream",
     "text": [
      "0\n",
      "1\n",
      "2\n",
      "3\n"
     ]
    }
   ],
   "source": [
    "# number of dimension in array \n",
    "print(arr0.ndim)\n",
    "print(arr1.ndim)\n",
    "print(arr2.ndim)\n",
    "print(arr3.ndim)\n"
   ]
  },
  {
   "cell_type": "code",
   "execution_count": 22,
   "id": "deea32ca",
   "metadata": {},
   "outputs": [
    {
     "name": "stdout",
     "output_type": "stream",
     "text": [
      "6\n",
      "6\n"
     ]
    }
   ],
   "source": [
    "# indexing the array \n",
    "print(arr3[0][1][2])\n",
    "print(arr3[0][1][-1]) # can also be indexed using negative value "
   ]
  },
  {
   "cell_type": "code",
   "execution_count": 26,
   "id": "428e8d95",
   "metadata": {},
   "outputs": [
    {
     "name": "stdout",
     "output_type": "stream",
     "text": [
      "6\n",
      "6\n",
      "[4 5]\n"
     ]
    }
   ],
   "source": [
    "# slicing the array \n",
    "print(arr3[0][1][2])\n",
    "print(arr3[0,1,2]) # second method of slicing\n",
    "print(arr3[0][1][:2]) # can also be indexed using negative value "
   ]
  },
  {
   "cell_type": "code",
   "execution_count": 25,
   "id": "73067b5a",
   "metadata": {},
   "outputs": [
    {
     "name": "stdout",
     "output_type": "stream",
     "text": [
      "[1 2 3 4 5]\n",
      "[2 4]\n"
     ]
    }
   ],
   "source": [
    "# slining array skipping 1 value \n",
    "print(arr1)\n",
    "print(arr1[1:5:2])"
   ]
  },
  {
   "cell_type": "code",
   "execution_count": 34,
   "id": "0aa3e4b7",
   "metadata": {},
   "outputs": [
    {
     "name": "stdout",
     "output_type": "stream",
     "text": [
      "10\n",
      "()\n",
      "[1 2 3 4 5]\n",
      "(5,)\n",
      "[[1 2 3]\n",
      " [4 5 6]]\n",
      "(2, 3)\n",
      "[[[1 2 3]\n",
      "  [4 5 6]]\n",
      "\n",
      " [[1 2 3]\n",
      "  [4 5 6]]]\n",
      "(2, 2, 3)\n"
     ]
    }
   ],
   "source": [
    "# Shapes of array\n",
    "print(arr0)\n",
    "print(arr0.shape)\n",
    "print(arr1)\n",
    "print(arr1.shape)\n",
    "print(arr2)\n",
    "print(arr2.shape)\n",
    "print(arr3)\n",
    "print(arr3.shape)"
   ]
  },
  {
   "cell_type": "code",
   "execution_count": null,
   "id": "26c507de",
   "metadata": {},
   "outputs": [],
   "source": []
  }
 ],
 "metadata": {
  "kernelspec": {
   "display_name": "Python 3",
   "language": "python",
   "name": "python3"
  },
  "language_info": {
   "codemirror_mode": {
    "name": "ipython",
    "version": 3
   },
   "file_extension": ".py",
   "mimetype": "text/x-python",
   "name": "python",
   "nbconvert_exporter": "python",
   "pygments_lexer": "ipython3",
   "version": "3.8.8"
  }
 },
 "nbformat": 4,
 "nbformat_minor": 5
}
