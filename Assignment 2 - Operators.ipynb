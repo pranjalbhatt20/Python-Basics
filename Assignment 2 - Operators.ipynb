{
 "cells": [
  {
   "cell_type": "code",
   "execution_count": null,
   "id": "e95e2656",
   "metadata": {},
   "outputs": [],
   "source": [
    "Q1. Without running below code mention the type of the final output\n",
    "   1.1/2"
   ]
  },
  {
   "cell_type": "code",
   "execution_count": null,
   "id": "0f5b59eb",
   "metadata": {},
   "outputs": [],
   "source": []
  },
  {
   "cell_type": "code",
   "execution_count": null,
   "id": "92fb6128",
   "metadata": {},
   "outputs": [],
   "source": [
    "Q2. Take 2 integer or float type variable , swap the values of these two variable"
   ]
  },
  {
   "cell_type": "code",
   "execution_count": null,
   "id": "dceceb9b",
   "metadata": {},
   "outputs": [],
   "source": []
  },
  {
   "cell_type": "code",
   "execution_count": null,
   "id": "ea9074d0",
   "metadata": {},
   "outputs": [],
   "source": [
    "Q3. Take 2 integer or float type variable , swap the values of these two variable without taking a third variable"
   ]
  },
  {
   "cell_type": "code",
   "execution_count": null,
   "id": "c7c5e183",
   "metadata": {},
   "outputs": [],
   "source": []
  },
  {
   "cell_type": "markdown",
   "id": "7a152273",
   "metadata": {},
   "source": [
    "Q4. A right angles traingle has height=4 and base=3 write an equation in python to find out the length of hypotenuse"
   ]
  },
  {
   "cell_type": "code",
   "execution_count": null,
   "id": "bba92ceb",
   "metadata": {},
   "outputs": [],
   "source": []
  },
  {
   "cell_type": "code",
   "execution_count": null,
   "id": "d575f693",
   "metadata": {},
   "outputs": [],
   "source": [
    "Q5. take two integer variable a and b and simulate equation (a+b)^3 "
   ]
  },
  {
   "cell_type": "code",
   "execution_count": null,
   "id": "8b4d896e",
   "metadata": {},
   "outputs": [],
   "source": []
  },
  {
   "cell_type": "raw",
   "id": "5e1ba52f",
   "metadata": {},
   "source": [
    "Q6 Add a pair of parentheses to each expression so \n",
    "that it evaluates to True. \n",
    "0 == 1 == 2 \n",
    "2 + 3 == 4 + 5 == 7 \n",
    "1 < -1 == 3 > 4 "
   ]
  }
 ],
 "metadata": {
  "kernelspec": {
   "display_name": "Python 3",
   "language": "python",
   "name": "python3"
  },
  "language_info": {
   "codemirror_mode": {
    "name": "ipython",
    "version": 3
   },
   "file_extension": ".py",
   "mimetype": "text/x-python",
   "name": "python",
   "nbconvert_exporter": "python",
   "pygments_lexer": "ipython3",
   "version": "3.8.8"
  }
 },
 "nbformat": 4,
 "nbformat_minor": 5
}
