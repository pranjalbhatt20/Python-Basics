{
 "cells": [
  {
   "cell_type": "markdown",
   "id": "bdf82c0e",
   "metadata": {},
   "source": [
    "## Some Important Built in functions"
   ]
  },
  {
   "cell_type": "markdown",
   "id": "38b8192d",
   "metadata": {},
   "source": [
    "### Print\n",
    "Print any variable or text in python"
   ]
  },
  {
   "cell_type": "code",
   "execution_count": 1,
   "id": "b84a8998",
   "metadata": {},
   "outputs": [
    {
     "name": "stdout",
     "output_type": "stream",
     "text": [
      "Hello World\n"
     ]
    }
   ],
   "source": [
    "print(\"Hello World\")"
   ]
  },
  {
   "cell_type": "markdown",
   "id": "baf68cff",
   "metadata": {},
   "source": [
    "### Type\n",
    "This function returns the type of a variable in python"
   ]
  },
  {
   "cell_type": "code",
   "execution_count": 2,
   "id": "dd87ee61",
   "metadata": {},
   "outputs": [
    {
     "name": "stdout",
     "output_type": "stream",
     "text": [
      "<class 'str'>\n"
     ]
    }
   ],
   "source": [
    "print(type(\"Hello World\"))"
   ]
  },
  {
   "cell_type": "markdown",
   "id": "f809b3bb",
   "metadata": {},
   "source": [
    "## Simple Data Types"
   ]
  },
  {
   "cell_type": "markdown",
   "id": "b11c53ea",
   "metadata": {},
   "source": [
    "### Declaration of  Integer, Float, String\n",
    "To declare a variable of a specific data type in python simply initialize a variable."
   ]
  },
  {
   "cell_type": "code",
   "execution_count": 3,
   "id": "cd0676d0",
   "metadata": {},
   "outputs": [
    {
     "name": "stdout",
     "output_type": "stream",
     "text": [
      "<class 'int'>\n"
     ]
    }
   ],
   "source": [
    "# Integer type declaration\n",
    "var = 1\n",
    "print(type(var))"
   ]
  },
  {
   "cell_type": "code",
   "execution_count": 4,
   "id": "bd5f1896",
   "metadata": {},
   "outputs": [
    {
     "name": "stdout",
     "output_type": "stream",
     "text": [
      "<class 'float'>\n"
     ]
    }
   ],
   "source": [
    "# Float type declaration\n",
    "var = 1.1\n",
    "print(type(var))"
   ]
  },
  {
   "cell_type": "code",
   "execution_count": 5,
   "id": "9e1ad7dd",
   "metadata": {},
   "outputs": [
    {
     "name": "stdout",
     "output_type": "stream",
     "text": [
      "<class 'str'>\n"
     ]
    }
   ],
   "source": [
    "# String Type declaration method 1 double quotes\n",
    "var = \"Hello\"\n",
    "print(type(var))"
   ]
  },
  {
   "cell_type": "code",
   "execution_count": 6,
   "id": "2ace75eb",
   "metadata": {},
   "outputs": [
    {
     "name": "stdout",
     "output_type": "stream",
     "text": [
      "<class 'str'>\n"
     ]
    }
   ],
   "source": [
    "# String Type declaration method 2 single quotes \n",
    "var = 'Hello'\n",
    "print(type(var))"
   ]
  },
  {
   "cell_type": "markdown",
   "id": "b4bcecf7",
   "metadata": {},
   "source": [
    "### Declaring Bollean ,None\n",
    "- Boolean types only takes 2 values True and False (case sensitive).\n",
    "- None type takes only 1 value \"None\" this means values of the variable is unknonwn"
   ]
  },
  {
   "cell_type": "code",
   "execution_count": 7,
   "id": "4186c64a",
   "metadata": {},
   "outputs": [
    {
     "name": "stdout",
     "output_type": "stream",
     "text": [
      "<class 'bool'>\n"
     ]
    }
   ],
   "source": [
    "var = True \n",
    "print(type(var))"
   ]
  },
  {
   "cell_type": "code",
   "execution_count": 8,
   "id": "dc345c87",
   "metadata": {},
   "outputs": [
    {
     "name": "stdout",
     "output_type": "stream",
     "text": [
      "<class 'bool'>\n"
     ]
    }
   ],
   "source": [
    "var = False\n",
    "print(type(var))"
   ]
  },
  {
   "cell_type": "code",
   "execution_count": 9,
   "id": "08d7d289",
   "metadata": {},
   "outputs": [
    {
     "name": "stdout",
     "output_type": "stream",
     "text": [
      "<class 'NoneType'>\n"
     ]
    }
   ],
   "source": [
    "var = None\n",
    "print(type(var))"
   ]
  }
 ],
 "metadata": {
  "kernelspec": {
   "display_name": "Python 3",
   "language": "python",
   "name": "python3"
  },
  "language_info": {
   "codemirror_mode": {
    "name": "ipython",
    "version": 3
   },
   "file_extension": ".py",
   "mimetype": "text/x-python",
   "name": "python",
   "nbconvert_exporter": "python",
   "pygments_lexer": "ipython3",
   "version": "3.8.8"
  }
 },
 "nbformat": 4,
 "nbformat_minor": 5
}
