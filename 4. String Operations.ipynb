{
 "cells": [
  {
   "cell_type": "markdown",
   "id": "2aeb9062",
   "metadata": {},
   "source": [
    "# String"
   ]
  },
  {
   "cell_type": "markdown",
   "id": "ca5f48bc",
   "metadata": {},
   "source": [
    "- capitalize()\t- Converts the first character to upper case\n",
    "- casefold()\t-Converts string into lower case\n",
    "- center()\t-Returns a centered string\n",
    "- count()\t-Returns the number of times a specified value occurs in a string\n",
    "- encode()\t-Returns an encoded version of the string\n",
    "- endswith()-\tReturns true if the string ends with the specified value\n",
    "- expandtabs()-\tSets the tab size of the string\n",
    "- find()-\tSearches the string for a specified value and returns the position of where it was found\n",
    "- format()-\tFormats specified values in a string\n",
    "- format_map()-\tFormats specified values in a string\n",
    "- index()-\tSearches the string for a specified value and returns the position of where it was found\n",
    "- isalnum()-\tReturns True if all characters in the string are alphanumeric\n",
    "- isalpha()-\tReturns True if all characters in the string are in the alphabet\n",
    "- isascii()-\tReturns True if all characters in the string are ascii characters\n",
    "- isdecimal()-\tReturns True if all characters in the string are decimals\n",
    "- isdigit()-\tReturns True if all characters in the string are digits\n",
    "- isidentifier()-\tReturns True if the string is an identifier\n",
    "- islower()-\tReturns True if all characters in the string are lower case\n",
    "- isnumeric()-\tReturns True if all characters in the string are numeric\n",
    "- isprintable()-\tReturns True if all characters in the string are printable\n",
    "- isspace()-\tReturns True if all characters in the string are whitespaces\n",
    "- istitle()-\tReturns True if the string follows the rules of a title\n",
    "- isupper()\t-Returns True if all characters in the string are upper case\n",
    "- join()-\tConverts the elements of an iterable into a string\n",
    "- ljust()-\tReturns a left justified version of the string\n",
    "- lower()-\tConverts a string into lower case\n",
    "- lstrip()-\tReturns a left trim version of the string\n",
    "- maketrans()-\tReturns a translation table to be used in translations\n",
    "- partition()-\tReturns a tuple where the string is parted into three parts\n",
    "- replace()-\tReturns a string where a specified value is replaced with a specified value\n",
    "- rfind()-\tSearches the string for a specified value and returns the last position of where it was found\n",
    "- rindex()-\tSearches the string for a specified value and returns the last position of where it was found\n",
    "- rjust()-\tReturns a right justified version of the string\n",
    "- rpartition()-\tReturns a tuple where the string is parted into three parts\n",
    "- rsplit()-\tSplits the string at the specified separator, and returns a list\n",
    "- rstrip()-\tReturns a right trim version of the string\n",
    "- split()-\tSplits the string at the specified separator, and returns a list\n",
    "- splitlines()-\tSplits the string at line breaks and returns a list\n",
    "- startswith()-\tReturns true if the string starts with the specified value\n",
    "- strip()-\tReturns a trimmed version of the string\n",
    "- swapcase()-\tSwaps cases, lower case becomes upper case and vice versa\n",
    "- title()-\tConverts the first character of each word to upper case\n",
    "- translate()-\tReturns a translated string\n",
    "- upper()-\tConverts a string into upper case\n",
    "- zfill()-\tFills the string with a specified number of 0 values at the beginning"
   ]
  },
  {
   "cell_type": "code",
   "execution_count": 2,
   "id": "bfdcbce2",
   "metadata": {},
   "outputs": [],
   "source": [
    "# String can be made with both double and single quotes \n",
    "str1=\"Hello world\"\n",
    "str2 ='Hello World'"
   ]
  },
  {
   "cell_type": "code",
   "execution_count": 3,
   "id": "641c15f1",
   "metadata": {},
   "outputs": [
    {
     "name": "stdout",
     "output_type": "stream",
     "text": [
      "Hello' World\n"
     ]
    }
   ],
   "source": [
    "# if a string already contains single quote use double quote to enclose it and vice versa \n",
    "str1 =\"Hello' World\"\n",
    "print(str1)"
   ]
  },
  {
   "cell_type": "code",
   "execution_count": 4,
   "id": "e59cb284",
   "metadata": {},
   "outputs": [
    {
     "name": "stdout",
     "output_type": "stream",
     "text": [
      "First char in string H\n",
      "Last charecter in string d\n"
     ]
    }
   ],
   "source": [
    "# Accessing string from index\n",
    "str1 = \"Hello World\"\n",
    "print(\"First char in string\",str1[0]) # first index of the string\n",
    "print(\"Last charecter in string\",str1[-1]) # last index of the string\n"
   ]
  },
  {
   "cell_type": "code",
   "execution_count": 5,
   "id": "ad1cccd1",
   "metadata": {},
   "outputs": [
    {
     "name": "stdout",
     "output_type": "stream",
     "text": [
      "llo W\n"
     ]
    }
   ],
   "source": [
    "# Slicing a string( get char between 2nd and 7th index) \n",
    "print(str1[2:7])"
   ]
  },
  {
   "cell_type": "code",
   "execution_count": 6,
   "id": "7d83474e",
   "metadata": {},
   "outputs": [
    {
     "ename": "TypeError",
     "evalue": "'str' object does not support item assignment",
     "output_type": "error",
     "traceback": [
      "\u001b[1;31m---------------------------------------------------------------------------\u001b[0m",
      "\u001b[1;31mTypeError\u001b[0m                                 Traceback (most recent call last)",
      "\u001b[1;32m~\\AppData\\Local\\Temp\\ipykernel_33492\\2280378761.py\u001b[0m in \u001b[0;36m<module>\u001b[1;34m\u001b[0m\n\u001b[0;32m      1\u001b[0m \u001b[1;31m# String are immutable in python\u001b[0m\u001b[1;33m\u001b[0m\u001b[1;33m\u001b[0m\u001b[0m\n\u001b[1;32m----> 2\u001b[1;33m \u001b[0mstr1\u001b[0m\u001b[1;33m[\u001b[0m\u001b[1;36m4\u001b[0m\u001b[1;33m]\u001b[0m\u001b[1;33m=\u001b[0m\u001b[1;34m'a'\u001b[0m \u001b[1;31m# this will throw an error\u001b[0m\u001b[1;33m\u001b[0m\u001b[1;33m\u001b[0m\u001b[0m\n\u001b[0m",
      "\u001b[1;31mTypeError\u001b[0m: 'str' object does not support item assignment"
     ]
    }
   ],
   "source": [
    "# String are immutable in python \n",
    "str1[4]='a' # this will throw an error"
   ]
  },
  {
   "cell_type": "code",
   "execution_count": 7,
   "id": "9e095730",
   "metadata": {},
   "outputs": [
    {
     "name": "stdout",
     "output_type": "stream",
     "text": [
      "hello world \n",
      "python is the best programming language\n"
     ]
    }
   ],
   "source": [
    "# use triple quotes for multiline string\n",
    "str1 =\"\"\"hello world \n",
    "python is the best programming language\"\"\"\n",
    "print(str1)"
   ]
  },
  {
   "cell_type": "markdown",
   "id": "9e9b79e1",
   "metadata": {},
   "source": [
    "# String Operations"
   ]
  },
  {
   "cell_type": "code",
   "execution_count": 9,
   "id": "6cd8ed94",
   "metadata": {},
   "outputs": [
    {
     "name": "stdout",
     "output_type": "stream",
     "text": [
      "False\n",
      "True\n"
     ]
    }
   ],
   "source": [
    "#Compare two string\n",
    "str1=\"Hello world\"\n",
    "str2=\"Python is best\"\n",
    "str3=\"Hello world\"\n",
    "print(str1==str2)\n",
    "print(str1==str3)"
   ]
  },
  {
   "cell_type": "code",
   "execution_count": 11,
   "id": "2afccf7f",
   "metadata": {},
   "outputs": [
    {
     "name": "stdout",
     "output_type": "stream",
     "text": [
      "Hello world Python is best\n"
     ]
    }
   ],
   "source": [
    "# Concatenate two or more string\n",
    "print(str1+' '+str2)"
   ]
  },
  {
   "cell_type": "code",
   "execution_count": 14,
   "id": "65587fc6",
   "metadata": {},
   "outputs": [
    {
     "name": "stdout",
     "output_type": "stream",
     "text": [
      "a is present\n"
     ]
    }
   ],
   "source": [
    "# loop through a string (below code will check if a is present in the string)\n",
    "str1='python is a procedural programmin language'\n",
    "for i in str1:\n",
    "    if i=='a':\n",
    "        print(\"a is present\")\n",
    "        break"
   ]
  },
  {
   "cell_type": "code",
   "execution_count": null,
   "id": "c213387d",
   "metadata": {},
   "outputs": [],
   "source": [
    "str1=\"Hello world\"\n",
    "for idx,val in enumerate(str1):\n",
    "    if val=='o':\n",
    "        print(\"o is present\",idx)"
   ]
  },
  {
   "cell_type": "code",
   "execution_count": 15,
   "id": "500f0731",
   "metadata": {},
   "outputs": [
    {
     "data": {
      "text/plain": [
       "42"
      ]
     },
     "execution_count": 15,
     "metadata": {},
     "output_type": "execute_result"
    }
   ],
   "source": [
    "# get length of a string \n",
    "len(str1)"
   ]
  },
  {
   "cell_type": "code",
   "execution_count": 16,
   "id": "4e8c0d90",
   "metadata": {},
   "outputs": [
    {
     "name": "stdout",
     "output_type": "stream",
     "text": [
      "True\n",
      "False\n"
     ]
    }
   ],
   "source": [
    "# Membership test(check if a particular charecter is present in the string or not)\n",
    "print('a' in str1)\n",
    "print('z' in str1)"
   ]
  },
  {
   "cell_type": "code",
   "execution_count": 17,
   "id": "617911e5",
   "metadata": {},
   "outputs": [
    {
     "name": "stdout",
     "output_type": "stream",
     "text": [
      "PYTHON IS A PROCEDURAL PROGRAMMIN LANGUAGE\n",
      "python is a procedural programmin language\n",
      "Python is a procedural programmin language\n",
      "python is z procedurzl progrzmmin lznguzge\n"
     ]
    }
   ],
   "source": [
    "# upper ,lower(),capitalize(),replace()\n",
    "print(str1.upper())\n",
    "print(str1.lower())\n",
    "print(str1.capitalize())\n",
    "print(str1.replace('a','z'))"
   ]
  },
  {
   "cell_type": "code",
   "execution_count": 21,
   "id": "8bb0acf2",
   "metadata": {},
   "outputs": [
    {
     "name": "stdout",
     "output_type": "stream",
     "text": [
      "True\n",
      "False\n",
      "False\n",
      "True\n",
      "False\n"
     ]
    }
   ],
   "source": [
    "# startswith(),isnumeric(),endswith(),islapha()\n",
    "print(str1.startswith('pyth'))\n",
    "print(str1.endswith('za'))\n",
    "print(str1.isnumeric())\n",
    "print('123'.isnumeric())\n",
    "print('123'.isalpha())"
   ]
  },
  {
   "cell_type": "code",
   "execution_count": 24,
   "id": "902db307",
   "metadata": {},
   "outputs": [
    {
     "name": "stdout",
     "output_type": "stream",
     "text": [
      "Total numeric values in strings are  16\n"
     ]
    }
   ],
   "source": [
    "#Exercise 1 - find out total numeric charecters in the below string\n",
    "str1=\"World crude steel production for the 71 countries reporting to the World Steel Association (worldsteel) was 155.7 million tonnes (Mt) in April 2024, a 5.0% decrease compared to April 2023.\"\n",
    "numeric_count=0\n",
    "for i in str1:\n",
    "    if i.isnumeric():\n",
    "        numeric_count+=1\n",
    "print(\"Total numeric values in string are \",numeric_count)"
   ]
  },
  {
   "cell_type": "code",
   "execution_count": 26,
   "id": "ac3a1563",
   "metadata": {},
   "outputs": [
    {
     "name": "stdout",
     "output_type": "stream",
     "text": [
      "Total numeric values in string are 16\n"
     ]
    }
   ],
   "source": [
    "# Formatting string \n",
    "print(f\"Total numeric values in string are {numeric_count}\") # if we write f at the start of the string we can use the variables\n",
    "# in curly braces"
   ]
  },
  {
   "cell_type": "code",
   "execution_count": 28,
   "id": "04159400",
   "metadata": {},
   "outputs": [
    {
     "name": "stdout",
     "output_type": "stream",
     "text": [
      "hello python is \n",
      " best programming language\n",
      "hello python is \\n best programming language\n"
     ]
    }
   ],
   "source": [
    "# raw format\n",
    "print(\"hello python is \\n best programming language\") # notice a new line in the output due to \\n\n",
    "print(r\"hello python is \\n best programming language\") # the new line will not be present now and \\n will be printed as is \n"
   ]
  },
  {
   "cell_type": "code",
   "execution_count": 29,
   "id": "b98ddc2a",
   "metadata": {},
   "outputs": [
    {
     "data": {
      "text/plain": [
       "85"
      ]
     },
     "execution_count": 29,
     "metadata": {},
     "output_type": "execute_result"
    }
   ],
   "source": [
    "# index of a char in string\n",
    "str1.index('a') # return the first index of a char in a string"
   ]
  },
  {
   "cell_type": "code",
   "execution_count": 31,
   "id": "d553f695",
   "metadata": {},
   "outputs": [
    {
     "name": "stdout",
     "output_type": "stream",
     "text": [
      "Hello world \n",
      " Hello world\n",
      "Hello world\n"
     ]
    }
   ],
   "source": [
    "# remove extra spaces from start or end or both of a string\n",
    "str1=\" Hello world \"\n",
    "print(str1.lstrip())\n",
    "print(str1.rstrip())\n",
    "print(str1.strip())"
   ]
  },
  {
   "cell_type": "code",
   "execution_count": 32,
   "id": "a4819765",
   "metadata": {},
   "outputs": [
    {
     "data": {
      "text/plain": [
       "['apple', ' mango', 'banana', 'orange']"
      ]
     },
     "execution_count": 32,
     "metadata": {},
     "output_type": "execute_result"
    }
   ],
   "source": [
    "# spillitng a string basis a special charecter\n",
    "str1 =\"apple, mango,banana,orange\"\n",
    "str1.split(',') # retruns a list type"
   ]
  },
  {
   "cell_type": "code",
   "execution_count": 34,
   "id": "5d481e2e",
   "metadata": {},
   "outputs": [
    {
     "name": "stdout",
     "output_type": "stream",
     "text": [
      "apple\n",
      "mango\n",
      "banana\n",
      "orange\n"
     ]
    }
   ],
   "source": [
    "# Exercise 2 split string on the basis of comma and remove spaces in each substring and print it \n",
    "str1 =\"apple, mango,banana,orange\"\n",
    "for i in str1.split(','):\n",
    "    print(i.strip())"
   ]
  },
  {
   "cell_type": "code",
   "execution_count": 36,
   "id": "116660da",
   "metadata": {},
   "outputs": [
    {
     "name": "stdout",
     "output_type": "stream",
     "text": [
      "apple, mango,banana,orange\n",
      "egnaro,ananab,ognam ,elppa\n"
     ]
    }
   ],
   "source": [
    "# Reverse a string \n",
    "print(str1)\n",
    "print(str1[::-1])\n"
   ]
  },
  {
   "cell_type": "code",
   "execution_count": 40,
   "id": "432da902",
   "metadata": {},
   "outputs": [
    {
     "data": {
      "text/plain": [
       "'orange,banana, mango,apple'"
      ]
     },
     "execution_count": 40,
     "metadata": {},
     "output_type": "execute_result"
    }
   ],
   "source": [
    "# Exercise 3 below string has fruit names seperated by comma , modify the string such that order of the fruits is reversed \n",
    "# but individual name of the fruit should remain same\n",
    "str1 =\"apple, mango,banana,orange\"\n",
    "new_String=''\n",
    "for i in str1[::-1].split(','):\n",
    "    new_String = new_String+','+i[::-1]\n",
    "new_String=new_String[1:]\n",
    "new_String"
   ]
  },
  {
   "cell_type": "code",
   "execution_count": 41,
   "id": "b2e0032c",
   "metadata": {},
   "outputs": [
    {
     "data": {
      "text/plain": [
       "'nge'"
      ]
     },
     "execution_count": 41,
     "metadata": {},
     "output_type": "execute_result"
    }
   ],
   "source": [
    "#Exercise 4 get last 3 charecter of a string \n",
    "str1[-3:]"
   ]
  },
  {
   "cell_type": "code",
   "execution_count": 42,
   "id": "899af18b",
   "metadata": {},
   "outputs": [
    {
     "data": {
      "text/plain": [
       "'e, mango,banana,orange'"
      ]
     },
     "execution_count": 42,
     "metadata": {},
     "output_type": "execute_result"
    }
   ],
   "source": [
    "#Exercise 4 get all charecters of a string after 4th index \n",
    "str1[4:]"
   ]
  },
  {
   "cell_type": "code",
   "execution_count": 45,
   "id": "3b4d3b45",
   "metadata": {},
   "outputs": [
    {
     "data": {
      "text/plain": [
       "'apple|mango|banana|orange'"
      ]
     },
     "execution_count": 45,
     "metadata": {},
     "output_type": "execute_result"
    }
   ],
   "source": [
    "# join() function in list of string (if you have a list of strings you can join then by a seperator as below)\n",
    "str_list =[\"apple\",\"mango\",\"banana\",\"orange\"]\n",
    "\"|\".join(str_list) # fruits will be replaced by our chosen charecter"
   ]
  },
  {
   "cell_type": "code",
   "execution_count": 47,
   "id": "e0c60707",
   "metadata": {},
   "outputs": [
    {
     "data": {
      "text/plain": [
       "'hello, Python!'"
      ]
     },
     "execution_count": 47,
     "metadata": {},
     "output_type": "execute_result"
    }
   ],
   "source": [
    "# Chain string method\n",
    "string = \"   Hello, World!   \"\n",
    "string.strip().lower().replace(\"world\", \"Python\")"
   ]
  }
 ],
 "metadata": {
  "kernelspec": {
   "display_name": "Python 3",
   "language": "python",
   "name": "python3"
  },
  "language_info": {
   "codemirror_mode": {
    "name": "ipython",
    "version": 3
   },
   "file_extension": ".py",
   "mimetype": "text/x-python",
   "name": "python",
   "nbconvert_exporter": "python",
   "pygments_lexer": "ipython3",
   "version": "3.8.8"
  }
 },
 "nbformat": 4,
 "nbformat_minor": 5
}
