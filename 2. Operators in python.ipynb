{
 "cells": [
  {
   "cell_type": "markdown",
   "id": "9bd2f445",
   "metadata": {},
   "source": [
    "# Arithmetic Operators\n",
    "- Addition + (var1 + var2)\n",
    "- Subtraction - (var1 - var2)\n",
    "- Multiplication * (var1 - var2)\n",
    "- Division / (var1 / var2)\n",
    "- Modulus % (var1 % var 2)\n",
    "- Exponentiation ** (var1**var2)\n",
    "- Floor division // (var1//var2)"
   ]
  },
  {
   "cell_type": "markdown",
   "id": "5c25e705",
   "metadata": {},
   "source": [
    "- Modulus operator - Reminder of the division \n",
    "- Floor division - Division of first variable with second variable"
   ]
  },
  {
   "cell_type": "code",
   "execution_count": 1,
   "id": "407deac6",
   "metadata": {},
   "outputs": [
    {
     "data": {
      "text/plain": [
       "3"
      ]
     },
     "execution_count": 1,
     "metadata": {},
     "output_type": "execute_result"
    }
   ],
   "source": [
    "var1 = 7\n",
    "var2 = 4\n",
    "print(var1%var2) # Reminder "
   ]
  },
  {
   "cell_type": "code",
   "execution_count": 3,
   "id": "bcb3a5b3",
   "metadata": {},
   "outputs": [
    {
     "name": "stdout",
     "output_type": "stream",
     "text": [
      "1\n"
     ]
    }
   ],
   "source": [
    "var1 = 7\n",
    "var2 = 4\n",
    "print(var1//var2) # Quotient "
   ]
  },
  {
   "cell_type": "markdown",
   "id": "8ba6e5a9",
   "metadata": {},
   "source": [
    "<h1 align=\"center\">Assignment Operators</h1>\n",
    "<table class=\"ws-table-all notranslate\">\n",
    "<tbody><tr>\n",
    "<th style=\"width:25%\">Operator</th>\n",
    "<th style=\"width:20%\">Example</th>\n",
    "<th style=\"width:20%\">Same As</th>\n",
    "</tr>\n",
    "<tr>\n",
    "<td>=</td>\n",
    "<td>x = 5</td>\n",
    "<td>x = 5</td>\n",
    "</tr>\n",
    "  <tr>\n",
    "<td>+=</td>\n",
    "<td>x += 3</td>\n",
    "<td>x = x + 3</td>\n",
    "  </tr>\n",
    "  <tr>\n",
    "<td>-=</td>\n",
    "<td>x -= 3</td>\n",
    "<td>x = x - 3</td>\n",
    "  </tr>\n",
    "  <tr>\n",
    "<td>*=</td>\n",
    "<td>x *= 3</td>\n",
    "<td>x = x * 3</td>\n",
    "  </tr>\n",
    "  <tr>\n",
    "<td>/=</td>\n",
    "<td>x /= 3</td>\n",
    "<td>x = x / 3</td>\n",
    "  </tr>\n",
    "  <tr>\n",
    "<td>%=</td>\n",
    "<td>x %= 3</td>\n",
    "<td>x = x % 3</td>\n",
    "  </tr>\n",
    "  <tr>\n",
    "<td>//=</td>\n",
    "<td>x //= 3</td>\n",
    "<td>x = x // 3</td>\n",
    "  </tr>\n",
    "  <tr>\n",
    "<td>**=</td>\n",
    "<td>x **= 3</td>\n",
    "<td>x = x ** 3</td>\n",
    "  </tr>\n",
    "\n",
    "</tbody></table>"
   ]
  },
  {
   "cell_type": "markdown",
   "id": "bb4ba121",
   "metadata": {},
   "source": [
    "\n",
    "<h1 align=\"center\">Comparison Operator </h1>\n",
    "<table class=\"ws-table-all notranslate\">\n",
    "<tbody><tr>\n",
    "<th style=\"width:25%\">Operator</th>\n",
    "<th style=\"width:35%\">Name</th>\n",
    "<th style=\"width:30%\">Example</th>\n",
    "</tr>\n",
    "<tr>\n",
    "<td>==</td>\n",
    "<td>Equal</td>\n",
    "<td>x == y</td>\n",
    "</tr>\n",
    "<tr>\n",
    "<td>!=</td>\n",
    "<td>Not equal</td>\n",
    "<td>x != y</td>\n",
    "</tr>\n",
    "<tr>\n",
    "<td>&gt;</td>\n",
    "<td>Greater than</td>\n",
    "<td>x &gt; y</td>\n",
    "</tr>\n",
    "<tr>\n",
    "<td>&lt;</td>\n",
    "<td>Less than</td>\n",
    "<td>x &lt; y</td>\n",
    "</tr>\n",
    "  <tr>\n",
    "<td>&gt;=</td>\n",
    "<td>Greater than or equal to</td>\n",
    "<td>x &gt;= y</td>\n",
    "  </tr>\n",
    "<tr>\n",
    "<td>&lt;=</td>\n",
    "<td>Less than or equal to</td>\n",
    "<td>x &lt;= y</td>\n",
    "</tr>\n",
    "</tbody></table>"
   ]
  },
  {
   "cell_type": "markdown",
   "id": "2aa569d6",
   "metadata": {},
   "source": [
    "<h1 align=\"center\">Logical Operators </h1>\n",
    "<table class=\"ws-table-all notranslate\">\n",
    "<tbody><tr>\n",
    "<th style=\"width:25%\">Operator</th>\n",
    "<th style=\"width:35%\">Description</th>\n",
    "<th style=\"width:30%\">Example</th>\n",
    "</tr>\n",
    "<tr>\n",
    "<td>and&nbsp;</td>\n",
    "<td>Returns True if both statements are true</td>\n",
    "<td>x &lt; 5 and&nbsp; x &lt; 10</td>\n",
    "</tr>\n",
    "<tr>\n",
    "<td>or</td>\n",
    "<td>Returns True if one of the statements is true</td>\n",
    "<td>x &lt; 5 or x &lt; 4</td>\n",
    "</tr>\n",
    "<tr>\n",
    "<td>not</td>\n",
    "<td>Reverse the result, returns False if the result is true</td>\n",
    "<td>not(x &lt; 5 and x &lt; 10)</td>\n",
    "</tr>\n",
    "</tbody></table>"
   ]
  },
  {
   "cell_type": "markdown",
   "id": "0cbf5c5d",
   "metadata": {},
   "source": [
    "Q1. Write a python code which considered two vairable and give the ourput of the famous equation (a+b)^2"
   ]
  },
  {
   "cell_type": "code",
   "execution_count": null,
   "id": "1bfce159",
   "metadata": {},
   "outputs": [],
   "source": []
  },
  {
   "cell_type": "code",
   "execution_count": null,
   "id": "73c229b3",
   "metadata": {},
   "outputs": [],
   "source": [
    "Q2. find out if quotient of below 2 division are same or not.\n",
    "27/5 , 30/5"
   ]
  },
  {
   "cell_type": "code",
   "execution_count": null,
   "id": "b9ca5fd9",
   "metadata": {},
   "outputs": [],
   "source": []
  },
  {
   "cell_type": "code",
   "execution_count": null,
   "id": "a836a844",
   "metadata": {},
   "outputs": [],
   "source": [
    "Q3. For below 2 divisions identify if reminder of first division is greater than second\n",
    "27/5 , 30/5"
   ]
  },
  {
   "cell_type": "code",
   "execution_count": null,
   "id": "f11f6cc6",
   "metadata": {},
   "outputs": [],
   "source": []
  },
  {
   "cell_type": "code",
   "execution_count": null,
   "id": "ab2dca83",
   "metadata": {},
   "outputs": [],
   "source": [
    "Q4. Find the are of a right angles triangle with base=4 and height =3."
   ]
  },
  {
   "cell_type": "code",
   "execution_count": null,
   "id": "dc2867ed",
   "metadata": {},
   "outputs": [],
   "source": []
  },
  {
   "cell_type": "code",
   "execution_count": 11,
   "id": "6ecf992b",
   "metadata": {},
   "outputs": [
    {
     "name": "stdout",
     "output_type": "stream",
     "text": [
      "Is this statement true?: False\n",
      "Any one statement is true?: True\n",
      "Each statement is true then return False and vice-versa: True\n"
     ]
    }
   ],
   "source": [
    "# Consider below operations\n",
    "a = 5          # initialize the value of a          \n",
    "print(\"Is this statement true?:\",a > 3 and a < 5)  \n",
    "print('Any one statement is true?:',a > 3 or a < 5)  \n",
    "print('Each statement is true then return False and vice-versa:',(not(a > 3 and a < 5)))  "
   ]
  }
 ],
 "metadata": {
  "kernelspec": {
   "display_name": "Python 3",
   "language": "python",
   "name": "python3"
  },
  "language_info": {
   "codemirror_mode": {
    "name": "ipython",
    "version": 3
   },
   "file_extension": ".py",
   "mimetype": "text/x-python",
   "name": "python",
   "nbconvert_exporter": "python",
   "pygments_lexer": "ipython3",
   "version": "3.8.8"
  }
 },
 "nbformat": 4,
 "nbformat_minor": 5
}
