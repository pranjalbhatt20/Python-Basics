{
 "cells": [
  {
   "cell_type": "markdown",
   "id": "2219140c",
   "metadata": {},
   "source": [
    "Q1. Write a function that checks if a given string is a palindrome and return only true of false.\n",
    "Q2. Write a function that takes a string as input and returns the string reversed.\n",
    "Q3. Write a function flatten_list(nested_list) that takes a nested list and returns a flat list with all the elements."
   ]
  }
 ],
 "metadata": {
  "kernelspec": {
   "display_name": "Python 3 (ipykernel)",
   "language": "python",
   "name": "python3"
  },
  "language_info": {
   "codemirror_mode": {
    "name": "ipython",
    "version": 3
   },
   "file_extension": ".py",
   "mimetype": "text/x-python",
   "name": "python",
   "nbconvert_exporter": "python",
   "pygments_lexer": "ipython3",
   "version": "3.9.17"
  }
 },
 "nbformat": 4,
 "nbformat_minor": 5
}
