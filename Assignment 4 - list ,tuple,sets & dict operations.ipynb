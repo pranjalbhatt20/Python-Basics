{
 "cells": [
  {
   "cell_type": "raw",
   "id": "30857a87",
   "metadata": {},
   "source": [
    "Q1: Given a list of tuples, write a function to extract the second element of each tuple into a new list.\n",
    "Q2: Write a program to merge two dictionaries.\n",
    "Q3: Generate a list of squares of even numbers between 1 and 20 using list comprehension.use range function and filter in list    comprehension to generate the squares \n",
    "Q4: Write a function to check if a set is a subset of another set.\n",
    "Q5: Given a dictionary, remove all keys where the value is less than 10.\n",
    "Q6: Sort a dictionary by its keys.\n",
    "Q7: Write a Python function to find the maximum and minimum elements of a tuple.\n",
    "Q8: Write a function to flatten a nested list.\n",
    "Q9: Write a program to find the most frequent value in a list.\n",
    "Q10: Write a program to invert a dictionary (i.e., swap keys and values)."
   ]
  }
 ],
 "metadata": {
  "kernelspec": {
   "display_name": "Python 3 (ipykernel)",
   "language": "python",
   "name": "python3"
  },
  "language_info": {
   "codemirror_mode": {
    "name": "ipython",
    "version": 3
   },
   "file_extension": ".py",
   "mimetype": "text/x-python",
   "name": "python",
   "nbconvert_exporter": "python",
   "pygments_lexer": "ipython3",
   "version": "3.9.17"
  }
 },
 "nbformat": 4,
 "nbformat_minor": 5
}
