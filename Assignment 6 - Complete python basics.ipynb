{
 "cells": [
  {
   "cell_type": "raw",
   "id": "7618204a",
   "metadata": {},
   "source": [
    "Q1. write a programme to Check if a number is  Palindrome or not . the number will be taken as integer input \n",
    "Q2.  write a function to calculate income tax for the given income by adhering to the rules below \n",
    "Taxable Income\tRate (in %)\n",
    "First $10,000\t0\n",
    "Next $10,000\t10\n",
    "The remaining\t20\n",
    "Expected Output:\n",
    "\n",
    "For example, suppose the taxable income is 45000, and the income tax payable is\n",
    "\n",
    "10000*0% + 10000*10%  + 25000*20% = $6000.\n",
    "\n",
    "Q3. write a function to create multiplication table of given number using string formatting . \n",
    "Expected output- table of 5 \n",
    "0 * 5 = 0\n",
    "1 * 5 = 5\n",
    "2 * 5 = 10\n",
    "3 * 5 = 15\n",
    "4 * 5 = 20\n",
    "5 * 5 = 25\n",
    "6 * 5 = 30\n",
    "7 * 5 = 35\n",
    "8 * 5 = 40\n",
    "9 * 5 = 45\n",
    "10 * 5 = 50\n",
    "\n",
    "Q4. Print a downward Half-Pyramid Pattern of Star (asterisk)\n",
    "* * * * *\n",
    "* * * *\n",
    "* * *\n",
    "* *\n",
    "*\n",
    "\n",
    "Q5. Calculate the sum of all numbers from 1 to a given number\n",
    "\n",
    "Q6. Count the total number of digits in a number. For example, the number is 75869, so the output should be 5.\n",
    "\n",
    "Q7. Print list in reverse order using a loop . without using [[::-1]] notation \n",
    "\n",
    "Q8. Convert two lists of equal length into a dictionary. where keys are from first dict and values are from second\n",
    "\n",
    "Q9. write a function to check if a value exist in a dict . take dict and value_to_check as argument.\n",
    "for example 200 exist in this dict -->sample_dict = {'a': 100, 'b': 200, 'c': 300} \n",
    "\n",
    "Q10. Subtract a week (7 days)  from a given date in Python(use google's  help)\n",
    "\n",
    "Q11. Add a week (7 days) and 12 hours to a given date(use google's help)"
   ]
  },
  {
   "cell_type": "code",
   "execution_count": null,
   "id": "d7a843a1",
   "metadata": {},
   "outputs": [],
   "source": []
  }
 ],
 "metadata": {
  "kernelspec": {
   "display_name": "Python 3 (ipykernel)",
   "language": "python",
   "name": "python3"
  },
  "language_info": {
   "codemirror_mode": {
    "name": "ipython",
    "version": 3
   },
   "file_extension": ".py",
   "mimetype": "text/x-python",
   "name": "python",
   "nbconvert_exporter": "python",
   "pygments_lexer": "ipython3",
   "version": "3.9.17"
  }
 },
 "nbformat": 4,
 "nbformat_minor": 5
}
